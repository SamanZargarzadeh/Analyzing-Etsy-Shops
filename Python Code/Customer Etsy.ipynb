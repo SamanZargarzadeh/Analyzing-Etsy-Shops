{
 "cells": [
  {
   "cell_type": "code",
   "execution_count": 1,
   "id": "ed91b175",
   "metadata": {},
   "outputs": [],
   "source": [
    "import numpy as np\n",
    "import pandas as pd"
   ]
  },
  {
   "cell_type": "code",
   "execution_count": 50,
   "id": "6d361d2a",
   "metadata": {},
   "outputs": [],
   "source": [
    "df = pd.read_csv('ETSYCLEAN.csv')"
   ]
  },
  {
   "cell_type": "code",
   "execution_count": 51,
   "id": "cbb274f6",
   "metadata": {},
   "outputs": [],
   "source": [
    "df['Sentiment'] = ''\n",
    "\n",
    "# map 1 to 'positive' and 0 to 'negative' in the new \"Sentiment\" column\n",
    "df.loc[df[\"Sales Dummy\"] == 1, 'Sentiment'] = 'positive'\n",
    "df.loc[df[\"Sales Dummy\"] == 0, 'Sentiment'] = 'negative'"
   ]
  },
  {
   "cell_type": "code",
   "execution_count": 52,
   "id": "7286f346",
   "metadata": {},
   "outputs": [
    {
     "data": {
      "text/plain": [
       "Unnamed: 0      0\n",
       "Sales           0\n",
       "Announcement    0\n",
       "Admirer         0\n",
       "Badge           0\n",
       "Category        0\n",
       "Shipping        0\n",
       "Review          0\n",
       "Reply           0\n",
       "Year            0\n",
       "Seller          0\n",
       "Announce        0\n",
       "Location        0\n",
       "Rating          0\n",
       "Total Items     0\n",
       "Image           0\n",
       "Sales Dummy     0\n",
       "Sentiment       0\n",
       "dtype: int64"
      ]
     },
     "execution_count": 52,
     "metadata": {},
     "output_type": "execute_result"
    }
   ],
   "source": [
    "df.isnull().sum()"
   ]
  },
  {
   "cell_type": "code",
   "execution_count": 53,
   "id": "046c50e9",
   "metadata": {},
   "outputs": [
    {
     "data": {
      "text/plain": [
       "0"
      ]
     },
     "execution_count": 53,
     "metadata": {},
     "output_type": "execute_result"
    }
   ],
   "source": [
    "df[\"Announcement\"].str.isspace().sum()"
   ]
  },
  {
   "cell_type": "code",
   "execution_count": 54,
   "id": "1a8454ad",
   "metadata": {},
   "outputs": [
    {
     "name": "stderr",
     "output_type": "stream",
     "text": [
      "D:\\Anaconda\\lib\\site-packages\\sklearn\\utils\\deprecation.py:87: FutureWarning: Function get_feature_names is deprecated; get_feature_names is deprecated in 1.0 and will be removed in 1.2. Please use get_feature_names_out instead.\n",
      "  warnings.warn(msg, category=FutureWarning)\n"
     ]
    },
    {
     "name": "stdout",
     "output_type": "stream",
     "text": [
      "Top 40 words used for Negative reviews.\n",
      "[('_x000d_', 5984), ('com', 1781), ('shop', 1700), ('items', 1522), ('etsy', 1271), ('www', 1233), ('shipping', 1045), ('welcome', 970), ('jewelry', 946), ('art', 840), ('new', 834), ('vintage', 781), ('custom', 759), ('love', 722), ('free', 719), ('make', 693), ('thank', 676), ('orders', 666), ('time', 636), ('facebook', 603), ('order', 595), ('https', 574), ('http', 567), ('like', 538), ('designs', 537), ('hand', 536), ('work', 531), ('instagram', 513), ('check', 510), ('handmade', 499), ('just', 483), ('unique', 439), ('contact', 435), ('ship', 432), ('item', 431), ('pieces', 426), ('home', 420), ('questions', 411), ('use', 405), ('thanks', 394)]\n",
      " \n",
      "Top 40 words used for Positive reviews.\n",
      "[('_x000d_', 11434), ('com', 3149), ('shop', 2593), ('shipping', 2512), ('etsy', 2290), ('www', 2171), ('items', 2095), ('order', 1970), ('orders', 1637), ('time', 1400), ('jewelry', 1336), ('custom', 1225), ('free', 1188), ('facebook', 1166), ('new', 1081), ('https', 1079), ('ship', 1062), ('make', 1052), ('http', 1040), ('welcome', 1030), ('thank', 1010), ('instagram', 846), ('love', 842), ('just', 839), ('designs', 820), ('business', 812), ('check', 809), ('contact', 805), ('like', 791), ('days', 779), ('item', 777), ('vintage', 745), ('use', 737), ('handmade', 729), ('purchase', 707), ('need', 663), ('questions', 642), ('art', 625), ('hand', 621), ('know', 614)]\n"
     ]
    }
   ],
   "source": [
    "from sklearn.feature_extraction.text import CountVectorizer\n",
    "cv = CountVectorizer(stop_words='english')\n",
    "\n",
    "matrix = cv.fit_transform(df[df['Sentiment']=='negative']['Announcement'])\n",
    "freqs = zip(cv.get_feature_names(), matrix.sum(axis=0).tolist()[0])  \n",
    "\n",
    "# sort from largest to smallest\n",
    "print(\"Top 40 words used for shops below the median of Sales.\")\n",
    "print(sorted(freqs, key=lambda x: -x[1])[:40])\n",
    "\n",
    "matrix = cv.fit_transform(df[df['Sentiment']=='positive']['Announcement'])\n",
    "freqs = zip(cv.get_feature_names(), matrix.sum(axis=0).tolist()[0])   \n",
    "\n",
    "# sort from largest to smallest\n",
    "print(\" \")\n",
    "print(\"Top 40 words used for shops above the median of Sales.\")\n",
    "print(sorted(freqs, key=lambda x: -x[1])[:40])"
   ]
  },
  {
   "cell_type": "code",
   "execution_count": 55,
   "id": "25568e6d",
   "metadata": {},
   "outputs": [],
   "source": [
    "from sklearn.model_selection import train_test_split\n",
    "X = df[\"Announcement\"]\n",
    "y = df[\"Sentiment\"]\n",
    "X_train, X_test, y_train, y_test = train_test_split(X, y, test_size=0.2, random_state = 101)"
   ]
  },
  {
   "cell_type": "code",
   "execution_count": 56,
   "id": "5e0db169",
   "metadata": {},
   "outputs": [
    {
     "data": {
      "text/plain": [
       "Pipeline(steps=[('tfidf', TfidfVectorizer()), ('svc', LinearSVC())])"
      ]
     },
     "execution_count": 56,
     "metadata": {},
     "output_type": "execute_result"
    }
   ],
   "source": [
    "from sklearn.pipeline import Pipeline\n",
    "from sklearn.feature_extraction.text import TfidfVectorizer\n",
    "from sklearn.svm import LinearSVC\n",
    "from sklearn.naive_bayes import MultinomialNB\n",
    "\n",
    "pipe = Pipeline([('tfidf', TfidfVectorizer()),('svc', LinearSVC()),])\n",
    "pipe.fit(X_train, y_train)  "
   ]
  },
  {
   "cell_type": "code",
   "execution_count": 57,
   "id": "b160f664",
   "metadata": {},
   "outputs": [
    {
     "name": "stdout",
     "output_type": "stream",
     "text": [
      "              precision    recall  f1-score   support\n",
      "\n",
      "    negative       0.64      0.69      0.66       610\n",
      "    positive       0.65      0.60      0.62       589\n",
      "\n",
      "    accuracy                           0.64      1199\n",
      "   macro avg       0.64      0.64      0.64      1199\n",
      "weighted avg       0.64      0.64      0.64      1199\n",
      "\n"
     ]
    },
    {
     "name": "stderr",
     "output_type": "stream",
     "text": [
      "D:\\Anaconda\\lib\\site-packages\\sklearn\\utils\\deprecation.py:87: FutureWarning: Function plot_confusion_matrix is deprecated; Function `plot_confusion_matrix` is deprecated in 1.0 and will be removed in 1.2. Use one of the class methods: ConfusionMatrixDisplay.from_predictions or ConfusionMatrixDisplay.from_estimator.\n",
      "  warnings.warn(msg, category=FutureWarning)\n"
     ]
    },
    {
     "data": {
      "text/plain": [
       "<sklearn.metrics._plot.confusion_matrix.ConfusionMatrixDisplay at 0x1ee295ded30>"
      ]
     },
     "execution_count": 57,
     "metadata": {},
     "output_type": "execute_result"
    },
    {
     "data": {
      "image/png": "[encoded data removed]",
      "text/plain": [
       "<Figure size 432x288 with 2 Axes>"
      ]
     },
     "metadata": {
      "needs_background": "light"
     },
     "output_type": "display_data"
    }
   ],
   "source": [
    "from sklearn.metrics import classification_report,plot_confusion_matrix\n",
    "preds = pipe.predict(X_test)\n",
    "print(classification_report(y_test,preds))\n",
    "plot_confusion_matrix(pipe,X_test,y_test)"
   ]
  }
 ],
 "metadata": {
  "kernelspec": {
   "display_name": "Python 3 (ipykernel)",
   "language": "python",
   "name": "python3"
  },
  "language_info": {
   "codemirror_mode": {
    "name": "ipython",
    "version": 3
   },
   "file_extension": ".py",
   "mimetype": "text/x-python",
   "name": "python",
   "nbconvert_exporter": "python",
   "pygments_lexer": "ipython3",
   "version": "3.9.12"
  }
 },
 "nbformat": 4,
 "nbformat_minor": 5
}
