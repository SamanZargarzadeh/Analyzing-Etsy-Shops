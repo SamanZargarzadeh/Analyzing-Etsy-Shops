{
 "cells": [
  {
   "cell_type": "markdown",
   "id": "c2005a58",
   "metadata": {},
   "source": [
    "# Importing Lib"
   ]
  },
  {
   "cell_type": "code",
   "execution_count": 2,
   "id": "ab224cb2",
   "metadata": {},
   "outputs": [],
   "source": [
    "import pandas as pd\n",
    "import numpy as np\n",
    "import re\n",
    "import matplotlib.pyplot as plt\n",
    "import seaborn as sns\n",
    "import scipy\n",
    "from scipy import stats\n",
    "import plotly.express as px\n",
    "import math\n",
    "import statsmodels.api as sm\n",
    "from sklearn.linear_model import LinearRegression\n",
    "\n",
    "%matplotlib inline"
   ]
  },
  {
   "cell_type": "markdown",
   "id": "c5c582df",
   "metadata": {},
   "source": [
    "# Exploratory Data Analysis"
   ]
  },
  {
   "cell_type": "code",
   "execution_count": 36,
   "id": "8e2cdfa6",
   "metadata": {},
   "outputs": [
    {
     "data": {
      "text/html": [
       "<div>\n",
       "<style scoped>\n",
       "    .dataframe tbody tr th:only-of-type {\n",
       "        vertical-align: middle;\n",
       "    }\n",
       "\n",
       "    .dataframe tbody tr th {\n",
       "        vertical-align: top;\n",
       "    }\n",
       "\n",
       "    .dataframe thead th {\n",
       "        text-align: right;\n",
       "    }\n",
       "</style>\n",
       "<table border=\"1\" class=\"dataframe\">\n",
       "  <thead>\n",
       "    <tr style=\"text-align: right;\">\n",
       "      <th></th>\n",
       "      <th>seller_id</th>\n",
       "      <th>seller_location</th>\n",
       "      <th>seller_join_date</th>\n",
       "      <th>number_of_sales</th>\n",
       "      <th>number_of_reviews</th>\n",
       "      <th>average_review_score</th>\n",
       "      <th>number_of_items</th>\n",
       "    </tr>\n",
       "  </thead>\n",
       "  <tbody>\n",
       "    <tr>\n",
       "      <th>0</th>\n",
       "      <td>1</td>\n",
       "      <td>India</td>\n",
       "      <td>2018</td>\n",
       "      <td>0</td>\n",
       "      <td>0</td>\n",
       "      <td>0.0000</td>\n",
       "      <td>2</td>\n",
       "    </tr>\n",
       "    <tr>\n",
       "      <th>1</th>\n",
       "      <td>2</td>\n",
       "      <td>France</td>\n",
       "      <td>2017</td>\n",
       "      <td>14</td>\n",
       "      <td>2</td>\n",
       "      <td>4.0000</td>\n",
       "      <td>0</td>\n",
       "    </tr>\n",
       "    <tr>\n",
       "      <th>2</th>\n",
       "      <td>3</td>\n",
       "      <td>United States</td>\n",
       "      <td>2016</td>\n",
       "      <td>137</td>\n",
       "      <td>18</td>\n",
       "      <td>5.0000</td>\n",
       "      <td>15</td>\n",
       "    </tr>\n",
       "    <tr>\n",
       "      <th>3</th>\n",
       "      <td>4</td>\n",
       "      <td>England</td>\n",
       "      <td>2019</td>\n",
       "      <td>0</td>\n",
       "      <td>0</td>\n",
       "      <td>0.0000</td>\n",
       "      <td>3</td>\n",
       "    </tr>\n",
       "    <tr>\n",
       "      <th>4</th>\n",
       "      <td>5</td>\n",
       "      <td>United States</td>\n",
       "      <td>2012</td>\n",
       "      <td>13995</td>\n",
       "      <td>2087</td>\n",
       "      <td>4.9218</td>\n",
       "      <td>369</td>\n",
       "    </tr>\n",
       "  </tbody>\n",
       "</table>\n",
       "</div>"
      ],
      "text/plain": [
       "   seller_id seller_location  seller_join_date  number_of_sales  \\\n",
       "0          1           India              2018                0   \n",
       "1          2          France              2017               14   \n",
       "2          3   United States              2016              137   \n",
       "3          4         England              2019                0   \n",
       "4          5   United States              2012            13995   \n",
       "\n",
       "   number_of_reviews  average_review_score  number_of_items  \n",
       "0                  0                0.0000                2  \n",
       "1                  2                4.0000                0  \n",
       "2                 18                5.0000               15  \n",
       "3                  0                0.0000                3  \n",
       "4               2087                4.9218              369  "
      ]
     },
     "execution_count": 36,
     "metadata": {},
     "output_type": "execute_result"
    }
   ],
   "source": [
    "data = pd.read_excel('etsy_shops_data.xls')\n",
    "data.head()"
   ]
  },
  {
   "cell_type": "code",
   "execution_count": 37,
   "id": "bded0cc2",
   "metadata": {},
   "outputs": [
    {
     "data": {
      "text/html": [
       "<div>\n",
       "<style scoped>\n",
       "    .dataframe tbody tr th:only-of-type {\n",
       "        vertical-align: middle;\n",
       "    }\n",
       "\n",
       "    .dataframe tbody tr th {\n",
       "        vertical-align: top;\n",
       "    }\n",
       "\n",
       "    .dataframe thead th {\n",
       "        text-align: right;\n",
       "    }\n",
       "</style>\n",
       "<table border=\"1\" class=\"dataframe\">\n",
       "  <thead>\n",
       "    <tr style=\"text-align: right;\">\n",
       "      <th></th>\n",
       "      <th>seller_id</th>\n",
       "      <th>seller_join_date</th>\n",
       "      <th>number_of_sales</th>\n",
       "      <th>number_of_reviews</th>\n",
       "      <th>average_review_score</th>\n",
       "      <th>number_of_items</th>\n",
       "    </tr>\n",
       "  </thead>\n",
       "  <tbody>\n",
       "    <tr>\n",
       "      <th>count</th>\n",
       "      <td>65534.000000</td>\n",
       "      <td>65534.000000</td>\n",
       "      <td>65534.000000</td>\n",
       "      <td>65534.000000</td>\n",
       "      <td>65534.000000</td>\n",
       "      <td>65534.000000</td>\n",
       "    </tr>\n",
       "    <tr>\n",
       "      <th>mean</th>\n",
       "      <td>32767.500000</td>\n",
       "      <td>2014.476897</td>\n",
       "      <td>578.690649</td>\n",
       "      <td>140.918836</td>\n",
       "      <td>3.492756</td>\n",
       "      <td>53.230796</td>\n",
       "    </tr>\n",
       "    <tr>\n",
       "      <th>std</th>\n",
       "      <td>18918.180608</td>\n",
       "      <td>3.229535</td>\n",
       "      <td>4559.713647</td>\n",
       "      <td>1341.711358</td>\n",
       "      <td>1.890929</td>\n",
       "      <td>212.790048</td>\n",
       "    </tr>\n",
       "    <tr>\n",
       "      <th>min</th>\n",
       "      <td>1.000000</td>\n",
       "      <td>2005.000000</td>\n",
       "      <td>0.000000</td>\n",
       "      <td>0.000000</td>\n",
       "      <td>0.000000</td>\n",
       "      <td>0.000000</td>\n",
       "    </tr>\n",
       "    <tr>\n",
       "      <th>25%</th>\n",
       "      <td>16384.250000</td>\n",
       "      <td>2012.000000</td>\n",
       "      <td>4.000000</td>\n",
       "      <td>1.000000</td>\n",
       "      <td>3.600000</td>\n",
       "      <td>0.000000</td>\n",
       "    </tr>\n",
       "    <tr>\n",
       "      <th>50%</th>\n",
       "      <td>32767.500000</td>\n",
       "      <td>2015.000000</td>\n",
       "      <td>25.000000</td>\n",
       "      <td>6.000000</td>\n",
       "      <td>3.600000</td>\n",
       "      <td>6.000000</td>\n",
       "    </tr>\n",
       "    <tr>\n",
       "      <th>75%</th>\n",
       "      <td>49150.750000</td>\n",
       "      <td>2017.000000</td>\n",
       "      <td>174.000000</td>\n",
       "      <td>44.000000</td>\n",
       "      <td>5.000000</td>\n",
       "      <td>35.000000</td>\n",
       "    </tr>\n",
       "    <tr>\n",
       "      <th>max</th>\n",
       "      <td>65534.000000</td>\n",
       "      <td>2019.000000</td>\n",
       "      <td>539221.000000</td>\n",
       "      <td>184489.000000</td>\n",
       "      <td>5.000000</td>\n",
       "      <td>14844.000000</td>\n",
       "    </tr>\n",
       "  </tbody>\n",
       "</table>\n",
       "</div>"
      ],
      "text/plain": [
       "          seller_id  seller_join_date  number_of_sales  number_of_reviews  \\\n",
       "count  65534.000000      65534.000000     65534.000000       65534.000000   \n",
       "mean   32767.500000       2014.476897       578.690649         140.918836   \n",
       "std    18918.180608          3.229535      4559.713647        1341.711358   \n",
       "min        1.000000       2005.000000         0.000000           0.000000   \n",
       "25%    16384.250000       2012.000000         4.000000           1.000000   \n",
       "50%    32767.500000       2015.000000        25.000000           6.000000   \n",
       "75%    49150.750000       2017.000000       174.000000          44.000000   \n",
       "max    65534.000000       2019.000000    539221.000000      184489.000000   \n",
       "\n",
       "       average_review_score  number_of_items  \n",
       "count          65534.000000     65534.000000  \n",
       "mean               3.492756        53.230796  \n",
       "std                1.890929       212.790048  \n",
       "min                0.000000         0.000000  \n",
       "25%                3.600000         0.000000  \n",
       "50%                3.600000         6.000000  \n",
       "75%                5.000000        35.000000  \n",
       "max                5.000000     14844.000000  "
      ]
     },
     "execution_count": 37,
     "metadata": {},
     "output_type": "execute_result"
    }
   ],
   "source": [
    "data.describe()"
   ]
  },
  {
   "cell_type": "code",
   "execution_count": 41,
   "id": "df6439c5",
   "metadata": {},
   "outputs": [
    {
     "data": {
      "text/plain": [
       "<AxesSubplot:title={'center':'Number of Shops by Country'}, xlabel='seller_location'>"
      ]
     },
     "execution_count": 41,
     "metadata": {},
     "output_type": "execute_result"
    },
    {
     "data": {
      "image/png": "[encoded data removed]",
      "text/plain": [
       "<Figure size 432x288 with 1 Axes>"
      ]
     },
     "metadata": {
      "needs_background": "light"
     },
     "output_type": "display_data"
    }
   ],
   "source": [
    "by_country = data[['seller_location']].groupby(by='seller_location').size().sort_values(ascending=False)\n",
    "by_country.head(n=10).plot.bar(title='Number of Shops by Country', color='darkorange')"
   ]
  },
  {
   "cell_type": "code",
   "execution_count": 43,
   "id": "156c281d",
   "metadata": {},
   "outputs": [
    {
     "data": {
      "text/plain": [
       "<AxesSubplot:title={'center':'Average Sales by Country'}, xlabel='seller_location'>"
      ]
     },
     "execution_count": 43,
     "metadata": {},
     "output_type": "execute_result"
    },
    {
     "data": {
      "image/png": "[encoded data removed]",
      "text/plain": [
       "<Figure size 432x288 with 1 Axes>"
      ]
     },
     "metadata": {
      "needs_background": "light"
     },
     "output_type": "display_data"
    }
   ],
   "source": [
    "sales_by_country = data.groupby('seller_location')['number_of_sales'].mean().sort_values(ascending=False)\n",
    "sales_by_country.head(n=10).plot.bar(title='Average Sales by Country', color='darkorange')"
   ]
  },
  {
   "cell_type": "markdown",
   "id": "04be66a2",
   "metadata": {},
   "source": [
    "* The US has by far the biggest number of Etsy shops, but the average sales is highest in Europe, China, Ethiopia, and Hong Kong"
   ]
  },
  {
   "cell_type": "code",
   "execution_count": 44,
   "id": "673232bd",
   "metadata": {},
   "outputs": [
    {
     "data": {
      "text/plain": [
       "seller_join_date\n",
       "2005      50\n",
       "2006     329\n",
       "2007     961\n",
       "2008    1954\n",
       "2009    2597\n",
       "2010    3153\n",
       "2011    4184\n",
       "2012    4694\n",
       "2013    5762\n",
       "2014    6104\n",
       "2015    6604\n",
       "2016    7182\n",
       "2017    8058\n",
       "2018    8567\n",
       "2019    5335\n",
       "dtype: int64"
      ]
     },
     "execution_count": 44,
     "metadata": {},
     "output_type": "execute_result"
    }
   ],
   "source": [
    "by_join_date = data[['seller_join_date']].groupby(by='seller_join_date').size()\n",
    "by_join_date"
   ]
  },
  {
   "cell_type": "code",
   "execution_count": 46,
   "id": "06c3f6b1",
   "metadata": {},
   "outputs": [
    {
     "data": {
      "text/plain": [
       "<AxesSubplot:title={'center':'Number of Shops by Year'}, xlabel='seller_join_date'>"
      ]
     },
     "execution_count": 46,
     "metadata": {},
     "output_type": "execute_result"
    },
    {
     "data": {
      "image/png": "[encoded data removed]",
      "text/plain": [
       "<Figure size 432x288 with 1 Axes>"
      ]
     },
     "metadata": {
      "needs_background": "light"
     },
     "output_type": "display_data"
    }
   ],
   "source": [
    "by_join_date.plot.bar(title='Number of Shops by Year', color='darkorange')"
   ]
  },
  {
   "cell_type": "code",
   "execution_count": 48,
   "id": "3576dcaa",
   "metadata": {},
   "outputs": [
    {
     "data": {
      "text/plain": [
       "<AxesSubplot:title={'center':'Average Sales by Year'}, xlabel='seller_join_date'>"
      ]
     },
     "execution_count": 48,
     "metadata": {},
     "output_type": "execute_result"
    },
    {
     "data": {
      "image/png": "[encoded data removed]",
      "text/plain": [
       "<Figure size 432x288 with 1 Axes>"
      ]
     },
     "metadata": {
      "needs_background": "light"
     },
     "output_type": "display_data"
    }
   ],
   "source": [
    "sales_by_year = data.groupby('seller_join_date')['number_of_sales'].mean()\n",
    "sales_by_year.plot.bar(title='Average Sales by Year', color='darkorange')"
   ]
  },
  {
   "cell_type": "markdown",
   "id": "c4ff9128",
   "metadata": {},
   "source": [
    "* Since this data was obtained in July of 2019, the number of shops joining Etsy was steadily increasing since the foundation of Etsy in 2015\n",
    "* The average sales is at peak in shops that joined Etsy in 2007, indicating that shops that joined Etsy in 2007 and after has continued to raise sales"
   ]
  },
  {
   "cell_type": "code",
   "execution_count": 83,
   "id": "4f67de53",
   "metadata": {},
   "outputs": [
    {
     "data": {
      "image/png": "[encoded data removed]",
      "text/plain": [
       "<Figure size 1440x360 with 2 Axes>"
      ]
     },
     "metadata": {
      "needs_background": "light"
     },
     "output_type": "display_data"
    }
   ],
   "source": [
    "plt.figure(figsize=(20, 5))\n",
    "plt.subplot(121)\n",
    "n, bins, patches = plt.hist(data['average_review_score'], log=False, facecolor='lightskyblue')\n",
    "plt.xlabel('Average Review Score')\n",
    "plt.ylabel('Number of Shops')\n",
    "plt.title('Histogram of Average Review Score')\n",
    "plt.grid(True)\n",
    "\n",
    "plt.subplot(122)\n",
    "n, bins, patches = plt.hist(data['number_of_sales'], log=True, facecolor='darkturquoise')\n",
    "plt.xlabel('Number of Sales')\n",
    "plt.ylabel('Log Number of Shops')\n",
    "plt.title('Log Histogram of Number of Sales')\n",
    "plt.grid(True)\n",
    "\n",
    "plt.show()"
   ]
  },
  {
   "cell_type": "markdown",
   "id": "763d742a",
   "metadata": {},
   "source": [
    "* Overall, the average review score was less than 0.5 or bigger than 4.5 (because I added the average for null values), meaning etsy uesrs rate shops either highly or poorly, not much in the middle\n",
    "* Most of the average review score for shops are greater than 4.5\n",
    "* Took log of the number of shops for the second histogram because most of the shops have less than 50,000 sales"
   ]
  },
  {
   "cell_type": "code",
   "execution_count": 66,
   "id": "5f60953f",
   "metadata": {},
   "outputs": [
    {
     "data": {
      "text/html": [
       "<div>\n",
       "<style scoped>\n",
       "    .dataframe tbody tr th:only-of-type {\n",
       "        vertical-align: middle;\n",
       "    }\n",
       "\n",
       "    .dataframe tbody tr th {\n",
       "        vertical-align: top;\n",
       "    }\n",
       "\n",
       "    .dataframe thead th {\n",
       "        text-align: right;\n",
       "    }\n",
       "</style>\n",
       "<table border=\"1\" class=\"dataframe\">\n",
       "  <thead>\n",
       "    <tr style=\"text-align: right;\">\n",
       "      <th></th>\n",
       "      <th>seller_id</th>\n",
       "      <th>seller_location</th>\n",
       "      <th>seller_join_date</th>\n",
       "      <th>number_of_sales</th>\n",
       "      <th>number_of_reviews</th>\n",
       "      <th>average_review_score</th>\n",
       "      <th>number_of_items</th>\n",
       "      <th>sold</th>\n",
       "    </tr>\n",
       "  </thead>\n",
       "  <tbody>\n",
       "    <tr>\n",
       "      <th>0</th>\n",
       "      <td>1</td>\n",
       "      <td>India</td>\n",
       "      <td>2018</td>\n",
       "      <td>0</td>\n",
       "      <td>0</td>\n",
       "      <td>0.0000</td>\n",
       "      <td>2</td>\n",
       "      <td>False</td>\n",
       "    </tr>\n",
       "    <tr>\n",
       "      <th>1</th>\n",
       "      <td>2</td>\n",
       "      <td>France</td>\n",
       "      <td>2017</td>\n",
       "      <td>14</td>\n",
       "      <td>2</td>\n",
       "      <td>4.0000</td>\n",
       "      <td>0</td>\n",
       "      <td>True</td>\n",
       "    </tr>\n",
       "    <tr>\n",
       "      <th>2</th>\n",
       "      <td>3</td>\n",
       "      <td>United States</td>\n",
       "      <td>2016</td>\n",
       "      <td>137</td>\n",
       "      <td>18</td>\n",
       "      <td>5.0000</td>\n",
       "      <td>15</td>\n",
       "      <td>True</td>\n",
       "    </tr>\n",
       "    <tr>\n",
       "      <th>3</th>\n",
       "      <td>4</td>\n",
       "      <td>England</td>\n",
       "      <td>2019</td>\n",
       "      <td>0</td>\n",
       "      <td>0</td>\n",
       "      <td>0.0000</td>\n",
       "      <td>3</td>\n",
       "      <td>False</td>\n",
       "    </tr>\n",
       "    <tr>\n",
       "      <th>4</th>\n",
       "      <td>5</td>\n",
       "      <td>United States</td>\n",
       "      <td>2012</td>\n",
       "      <td>13995</td>\n",
       "      <td>2087</td>\n",
       "      <td>4.9218</td>\n",
       "      <td>369</td>\n",
       "      <td>True</td>\n",
       "    </tr>\n",
       "  </tbody>\n",
       "</table>\n",
       "</div>"
      ],
      "text/plain": [
       "   seller_id seller_location  seller_join_date  number_of_sales  \\\n",
       "0          1           India              2018                0   \n",
       "1          2          France              2017               14   \n",
       "2          3   United States              2016              137   \n",
       "3          4         England              2019                0   \n",
       "4          5   United States              2012            13995   \n",
       "\n",
       "   number_of_reviews  average_review_score  number_of_items   sold  \n",
       "0                  0                0.0000                2  False  \n",
       "1                  2                4.0000                0   True  \n",
       "2                 18                5.0000               15   True  \n",
       "3                  0                0.0000                3  False  \n",
       "4               2087                4.9218              369   True  "
      ]
     },
     "execution_count": 66,
     "metadata": {},
     "output_type": "execute_result"
    }
   ],
   "source": [
    "data['sold'] = data['number_of_sales'] > 0\n",
    "data.head()"
   ]
  },
  {
   "cell_type": "code",
   "execution_count": 67,
   "id": "aebd87fe",
   "metadata": {},
   "outputs": [
    {
     "data": {
      "image/png": "[encoded data removed]",
      "text/plain": [
       "<Figure size 432x288 with 1 Axes>"
      ]
     },
     "metadata": {
      "needs_background": "light"
     },
     "output_type": "display_data"
    }
   ],
   "source": [
    "sns.countplot(x='sold', data=data, palette='magma')\n",
    "plt.show()"
   ]
  },
  {
   "cell_type": "markdown",
   "id": "e3f0a39c",
   "metadata": {},
   "source": [
    "* Most stores have sales"
   ]
  },
  {
   "cell_type": "code",
   "execution_count": 101,
   "id": "6398e7de",
   "metadata": {},
   "outputs": [
    {
     "name": "stdout",
     "output_type": "stream",
     "text": [
      "Optimization terminated successfully.\n",
      "         Current function value: 0.146129\n",
      "         Iterations 12\n",
      "                           Logit Regression Results                           \n",
      "==============================================================================\n",
      "Dep. Variable:                   sold   No. Observations:                65534\n",
      "Model:                          Logit   Df Residuals:                    65532\n",
      "Method:                           MLE   Df Model:                            1\n",
      "Date:                Sat, 04 Mar 2023   Pseudo R-squ.:                  0.4498\n",
      "Time:                        20:52:30   Log-Likelihood:                -9576.4\n",
      "converged:                       True   LL-Null:                       -17407.\n",
      "Covariance Type:            nonrobust   LLR p-value:                     0.000\n",
      "========================================================================================\n",
      "                           coef    std err          z      P>|z|      [0.025      0.975]\n",
      "----------------------------------------------------------------------------------------\n",
      "average_review_score     1.8489      0.051     35.908      0.000       1.748       1.950\n",
      "number_of_items          0.0186      0.001     13.782      0.000       0.016       0.021\n",
      "========================================================================================\n",
      "\n",
      "Possibly complete quasi-separation: A fraction 0.45 of observations can be\n",
      "perfectly predicted. This might indicate that there is complete\n",
      "quasi-separation. In this case some parameters will not be identified.\n"
     ]
    }
   ],
   "source": [
    "x = data[['average_review_score','number_of_items']]\n",
    "y = data['sold']\n",
    "\n",
    "logit_model = sm.Logit(y,x)\n",
    "result = logit_model.fit()\n",
    "print(result.summary())"
   ]
  },
  {
   "cell_type": "code",
   "execution_count": 104,
   "id": "1935dedf",
   "metadata": {},
   "outputs": [
    {
     "name": "stdout",
     "output_type": "stream",
     "text": [
      "the odds ratio of average review score is  6.352827567407349\n",
      "the odds ratio of number of items is  1.0187740574816226\n"
     ]
    }
   ],
   "source": [
    "print('the odds ratio of average review score is ', math.exp(1.8489))\n",
    "print('the odds ratio of number of items is ', math.exp(0.0186))"
   ]
  },
  {
   "cell_type": "markdown",
   "id": "131cee2d",
   "metadata": {},
   "source": [
    "Logistic regression shows that:\n",
    "* the odds of sales increase by a factor of 6.35 for every unit increase in average review score\n",
    "* the odds of sales increase by a factor of 1.02 for every unit increase in number of items\n",
    "\n",
    "However, due to the ununified distribution of the average review score, complete quasi-separation is deteceted."
   ]
  },
  {
   "cell_type": "code",
   "execution_count": 100,
   "id": "74fb571b",
   "metadata": {},
   "outputs": [],
   "source": [
    "#data['natural_log'] = np.log(data['number_of_sales'])\n",
    "#data.head()"
   ]
  },
  {
   "cell_type": "markdown",
   "id": "9b01ce35",
   "metadata": {},
   "source": [
    "# Final Code"
   ]
  },
  {
   "cell_type": "code",
   "execution_count": 117,
   "id": "8fff4a27",
   "metadata": {
    "scrolled": true
   },
   "outputs": [
    {
     "data": {
      "text/html": [
       "<div>\n",
       "<style scoped>\n",
       "    .dataframe tbody tr th:only-of-type {\n",
       "        vertical-align: middle;\n",
       "    }\n",
       "\n",
       "    .dataframe tbody tr th {\n",
       "        vertical-align: top;\n",
       "    }\n",
       "\n",
       "    .dataframe thead th {\n",
       "        text-align: right;\n",
       "    }\n",
       "</style>\n",
       "<table border=\"1\" class=\"dataframe\">\n",
       "  <thead>\n",
       "    <tr style=\"text-align: right;\">\n",
       "      <th></th>\n",
       "      <th>Sales</th>\n",
       "      <th>Announcement</th>\n",
       "      <th>Admirer</th>\n",
       "      <th>Badge</th>\n",
       "      <th>Category</th>\n",
       "      <th>Shipping</th>\n",
       "      <th>Review</th>\n",
       "      <th>Reply</th>\n",
       "      <th>Year</th>\n",
       "      <th>Seller</th>\n",
       "      <th>Announce</th>\n",
       "      <th>Location</th>\n",
       "      <th>Rating</th>\n",
       "      <th>Total Items</th>\n",
       "      <th>Image</th>\n",
       "    </tr>\n",
       "  </thead>\n",
       "  <tbody>\n",
       "    <tr>\n",
       "      <th>0</th>\n",
       "      <td>35865.0</td>\n",
       "      <td>If you're planning a wedding, we invite you to...</td>\n",
       "      <td>46618.0</td>\n",
       "      <td>0</td>\n",
       "      <td>20</td>\n",
       "      <td>0</td>\n",
       "      <td>1</td>\n",
       "      <td>1</td>\n",
       "      <td>2008.0</td>\n",
       "      <td>jewelrybyjohan</td>\n",
       "      <td>1</td>\n",
       "      <td>Oakdale, Minnesota</td>\n",
       "      <td>5.0</td>\n",
       "      <td>829</td>\n",
       "      <td>1</td>\n",
       "    </tr>\n",
       "    <tr>\n",
       "      <th>1</th>\n",
       "      <td>369750.0</td>\n",
       "      <td>Thank you all for a great 2022! We can't wait ...</td>\n",
       "      <td>40476.0</td>\n",
       "      <td>0</td>\n",
       "      <td>21</td>\n",
       "      <td>0</td>\n",
       "      <td>1</td>\n",
       "      <td>1</td>\n",
       "      <td>2008.0</td>\n",
       "      <td>zoeysattic</td>\n",
       "      <td>1</td>\n",
       "      <td>St Louis, Missouri</td>\n",
       "      <td>5.0</td>\n",
       "      <td>5038</td>\n",
       "      <td>1</td>\n",
       "    </tr>\n",
       "    <tr>\n",
       "      <th>2</th>\n",
       "      <td>369755.0</td>\n",
       "      <td>Thank you all for a great 2022! We can't wait ...</td>\n",
       "      <td>40476.0</td>\n",
       "      <td>0</td>\n",
       "      <td>21</td>\n",
       "      <td>0</td>\n",
       "      <td>1</td>\n",
       "      <td>1</td>\n",
       "      <td>2008.0</td>\n",
       "      <td>zoeysattic</td>\n",
       "      <td>1</td>\n",
       "      <td>St Louis, Missouri</td>\n",
       "      <td>5.0</td>\n",
       "      <td>5038</td>\n",
       "      <td>1</td>\n",
       "    </tr>\n",
       "    <tr>\n",
       "      <th>3</th>\n",
       "      <td>369757.0</td>\n",
       "      <td>Thank you all for a great 2022! We can't wait ...</td>\n",
       "      <td>40476.0</td>\n",
       "      <td>0</td>\n",
       "      <td>21</td>\n",
       "      <td>0</td>\n",
       "      <td>1</td>\n",
       "      <td>1</td>\n",
       "      <td>2008.0</td>\n",
       "      <td>zoeysattic</td>\n",
       "      <td>1</td>\n",
       "      <td>St Louis, Missouri</td>\n",
       "      <td>5.0</td>\n",
       "      <td>5038</td>\n",
       "      <td>1</td>\n",
       "    </tr>\n",
       "    <tr>\n",
       "      <th>4</th>\n",
       "      <td>7283.0</td>\n",
       "      <td>Check out my new listings! More to come daily!...</td>\n",
       "      <td>2981.0</td>\n",
       "      <td>1</td>\n",
       "      <td>17</td>\n",
       "      <td>1</td>\n",
       "      <td>1</td>\n",
       "      <td>1</td>\n",
       "      <td>2007.0</td>\n",
       "      <td>1000WordPhotoShop</td>\n",
       "      <td>1</td>\n",
       "      <td>Olympia, Washington</td>\n",
       "      <td>5.0</td>\n",
       "      <td>104</td>\n",
       "      <td>1</td>\n",
       "    </tr>\n",
       "  </tbody>\n",
       "</table>\n",
       "</div>"
      ],
      "text/plain": [
       "      Sales                                       Announcement  Admirer  \\\n",
       "0   35865.0  If you're planning a wedding, we invite you to...  46618.0   \n",
       "1  369750.0  Thank you all for a great 2022! We can't wait ...  40476.0   \n",
       "2  369755.0  Thank you all for a great 2022! We can't wait ...  40476.0   \n",
       "3  369757.0  Thank you all for a great 2022! We can't wait ...  40476.0   \n",
       "4    7283.0  Check out my new listings! More to come daily!...   2981.0   \n",
       "\n",
       "   Badge  Category  Shipping  Review  Reply    Year             Seller  \\\n",
       "0      0        20         0       1      1  2008.0     jewelrybyjohan   \n",
       "1      0        21         0       1      1  2008.0         zoeysattic   \n",
       "2      0        21         0       1      1  2008.0         zoeysattic   \n",
       "3      0        21         0       1      1  2008.0         zoeysattic   \n",
       "4      1        17         1       1      1  2007.0  1000WordPhotoShop   \n",
       "\n",
       "   Announce             Location  Rating Total Items  Image  \n",
       "0         1   Oakdale, Minnesota     5.0        829       1  \n",
       "1         1   St Louis, Missouri     5.0       5038       1  \n",
       "2         1   St Louis, Missouri     5.0       5038       1  \n",
       "3         1   St Louis, Missouri     5.0       5038       1  \n",
       "4         1  Olympia, Washington     5.0        104       1  "
      ]
     },
     "execution_count": 117,
     "metadata": {},
     "output_type": "execute_result"
    }
   ],
   "source": [
    "Scraped_data = pd.read_excel('/Users/macbook/Desktop/etsyfinal4.xlsx')\n",
    "Scraped_data.head()"
   ]
  },
  {
   "cell_type": "code",
   "execution_count": 118,
   "id": "931be1de",
   "metadata": {},
   "outputs": [
    {
     "data": {
      "text/plain": [
       "count      5995.000000\n",
       "mean      11110.857548\n",
       "std       32165.482278\n",
       "min           2.000000\n",
       "25%         910.000000\n",
       "50%        3175.000000\n",
       "75%        9465.000000\n",
       "max      950812.000000\n",
       "Name: Sales, dtype: float64"
      ]
     },
     "execution_count": 118,
     "metadata": {},
     "output_type": "execute_result"
    }
   ],
   "source": [
    "Scraped_data['Sales'].describe()"
   ]
  },
  {
   "cell_type": "code",
   "execution_count": 138,
   "id": "6f6da11c",
   "metadata": {},
   "outputs": [
    {
     "name": "stdout",
     "output_type": "stream",
     "text": [
      "3148.0\n"
     ]
    }
   ],
   "source": [
    "threshold=np.percentile(Scraped_data['Sales'], 50)\n",
    "print(threshold)\n",
    "Scraped_data['Sales Dummy']=0\n",
    "Scraped_data['Sales Dummy'] = Scraped_data['Sales'].apply(lambda x: 1 if x>=threshold else 0)"
   ]
  },
  {
   "cell_type": "code",
   "execution_count": 139,
   "id": "5693a291",
   "metadata": {},
   "outputs": [
    {
     "data": {
      "text/html": [
       "<div>\n",
       "<style scoped>\n",
       "    .dataframe tbody tr th:only-of-type {\n",
       "        vertical-align: middle;\n",
       "    }\n",
       "\n",
       "    .dataframe tbody tr th {\n",
       "        vertical-align: top;\n",
       "    }\n",
       "\n",
       "    .dataframe thead th {\n",
       "        text-align: right;\n",
       "    }\n",
       "</style>\n",
       "<table border=\"1\" class=\"dataframe\">\n",
       "  <thead>\n",
       "    <tr style=\"text-align: right;\">\n",
       "      <th></th>\n",
       "      <th>Sales</th>\n",
       "      <th>Announcement</th>\n",
       "      <th>Admirer</th>\n",
       "      <th>Badge</th>\n",
       "      <th>Category</th>\n",
       "      <th>Shipping</th>\n",
       "      <th>Review</th>\n",
       "      <th>Reply</th>\n",
       "      <th>Year</th>\n",
       "      <th>Seller</th>\n",
       "      <th>Announce</th>\n",
       "      <th>Location</th>\n",
       "      <th>Rating</th>\n",
       "      <th>Total Items</th>\n",
       "      <th>Image</th>\n",
       "      <th>Sales Dummy</th>\n",
       "    </tr>\n",
       "  </thead>\n",
       "  <tbody>\n",
       "    <tr>\n",
       "      <th>0</th>\n",
       "      <td>35865.0</td>\n",
       "      <td>If you're planning a wedding, we invite you to...</td>\n",
       "      <td>46618.0</td>\n",
       "      <td>0</td>\n",
       "      <td>20</td>\n",
       "      <td>0</td>\n",
       "      <td>1</td>\n",
       "      <td>1</td>\n",
       "      <td>2008.0</td>\n",
       "      <td>jewelrybyjohan</td>\n",
       "      <td>1</td>\n",
       "      <td>Oakdale, Minnesota</td>\n",
       "      <td>5.0</td>\n",
       "      <td>829.0</td>\n",
       "      <td>1</td>\n",
       "      <td>1</td>\n",
       "    </tr>\n",
       "    <tr>\n",
       "      <th>1</th>\n",
       "      <td>369750.0</td>\n",
       "      <td>Thank you all for a great 2022! We can't wait ...</td>\n",
       "      <td>40476.0</td>\n",
       "      <td>0</td>\n",
       "      <td>21</td>\n",
       "      <td>0</td>\n",
       "      <td>1</td>\n",
       "      <td>1</td>\n",
       "      <td>2008.0</td>\n",
       "      <td>zoeysattic</td>\n",
       "      <td>1</td>\n",
       "      <td>St Louis, Missouri</td>\n",
       "      <td>5.0</td>\n",
       "      <td>5038.0</td>\n",
       "      <td>1</td>\n",
       "      <td>1</td>\n",
       "    </tr>\n",
       "    <tr>\n",
       "      <th>4</th>\n",
       "      <td>7283.0</td>\n",
       "      <td>Check out my new listings! More to come daily!...</td>\n",
       "      <td>2981.0</td>\n",
       "      <td>1</td>\n",
       "      <td>17</td>\n",
       "      <td>1</td>\n",
       "      <td>1</td>\n",
       "      <td>1</td>\n",
       "      <td>2007.0</td>\n",
       "      <td>1000WordPhotoShop</td>\n",
       "      <td>1</td>\n",
       "      <td>Olympia, Washington</td>\n",
       "      <td>5.0</td>\n",
       "      <td>104.0</td>\n",
       "      <td>1</td>\n",
       "      <td>1</td>\n",
       "    </tr>\n",
       "    <tr>\n",
       "      <th>5</th>\n",
       "      <td>13691.0</td>\n",
       "      <td>Fake Cakes, Ice Cream Cones, Fake Cupcakes &amp; O...</td>\n",
       "      <td>11495.0</td>\n",
       "      <td>1</td>\n",
       "      <td>20</td>\n",
       "      <td>1</td>\n",
       "      <td>1</td>\n",
       "      <td>1</td>\n",
       "      <td>0.0</td>\n",
       "      <td>12LegsCuriosities</td>\n",
       "      <td>1</td>\n",
       "      <td>0</td>\n",
       "      <td>5.0</td>\n",
       "      <td>686.0</td>\n",
       "      <td>1</td>\n",
       "      <td>1</td>\n",
       "    </tr>\n",
       "    <tr>\n",
       "      <th>6</th>\n",
       "      <td>10408.0</td>\n",
       "      <td>I also sell under the name Stitch Morgantown o...</td>\n",
       "      <td>1444.0</td>\n",
       "      <td>1</td>\n",
       "      <td>15</td>\n",
       "      <td>1</td>\n",
       "      <td>1</td>\n",
       "      <td>1</td>\n",
       "      <td>2008.0</td>\n",
       "      <td>15PiecesofFlair</td>\n",
       "      <td>1</td>\n",
       "      <td>Fairmont, West Virginia</td>\n",
       "      <td>5.0</td>\n",
       "      <td>934.0</td>\n",
       "      <td>1</td>\n",
       "      <td>1</td>\n",
       "    </tr>\n",
       "    <tr>\n",
       "      <th>...</th>\n",
       "      <td>...</td>\n",
       "      <td>...</td>\n",
       "      <td>...</td>\n",
       "      <td>...</td>\n",
       "      <td>...</td>\n",
       "      <td>...</td>\n",
       "      <td>...</td>\n",
       "      <td>...</td>\n",
       "      <td>...</td>\n",
       "      <td>...</td>\n",
       "      <td>...</td>\n",
       "      <td>...</td>\n",
       "      <td>...</td>\n",
       "      <td>...</td>\n",
       "      <td>...</td>\n",
       "      <td>...</td>\n",
       "    </tr>\n",
       "    <tr>\n",
       "      <th>6004</th>\n",
       "      <td>929.0</td>\n",
       "      <td>0</td>\n",
       "      <td>60.0</td>\n",
       "      <td>1</td>\n",
       "      <td>11</td>\n",
       "      <td>1</td>\n",
       "      <td>1</td>\n",
       "      <td>1</td>\n",
       "      <td>0.0</td>\n",
       "      <td>zray</td>\n",
       "      <td>1</td>\n",
       "      <td>Cincinnati, Ohio</td>\n",
       "      <td>5.0</td>\n",
       "      <td>204.0</td>\n",
       "      <td>1</td>\n",
       "      <td>0</td>\n",
       "    </tr>\n",
       "    <tr>\n",
       "      <th>6005</th>\n",
       "      <td>99.0</td>\n",
       "      <td>Welcome to my shop! Custom orders welcome. Spr...</td>\n",
       "      <td>936.0</td>\n",
       "      <td>1</td>\n",
       "      <td>12</td>\n",
       "      <td>1</td>\n",
       "      <td>1</td>\n",
       "      <td>1</td>\n",
       "      <td>0.0</td>\n",
       "      <td>ZuriZenDesigns</td>\n",
       "      <td>1</td>\n",
       "      <td>0</td>\n",
       "      <td>5.0</td>\n",
       "      <td>86.0</td>\n",
       "      <td>1</td>\n",
       "      <td>0</td>\n",
       "    </tr>\n",
       "    <tr>\n",
       "      <th>6006</th>\n",
       "      <td>236.0</td>\n",
       "      <td>Cats rule!  =^-^=</td>\n",
       "      <td>367.0</td>\n",
       "      <td>0</td>\n",
       "      <td>7</td>\n",
       "      <td>0</td>\n",
       "      <td>0</td>\n",
       "      <td>0</td>\n",
       "      <td>2009.0</td>\n",
       "      <td>beckyzimm</td>\n",
       "      <td>1</td>\n",
       "      <td>Tucson, Arizona</td>\n",
       "      <td>5.0</td>\n",
       "      <td>77.0</td>\n",
       "      <td>1</td>\n",
       "      <td>0</td>\n",
       "    </tr>\n",
       "    <tr>\n",
       "      <th>6007</th>\n",
       "      <td>5497.0</td>\n",
       "      <td>What you can expect, here at Parish Farmgirl ....</td>\n",
       "      <td>2643.0</td>\n",
       "      <td>0</td>\n",
       "      <td>13</td>\n",
       "      <td>1</td>\n",
       "      <td>1</td>\n",
       "      <td>0</td>\n",
       "      <td>2009.0</td>\n",
       "      <td>ParishFarmgirl</td>\n",
       "      <td>1</td>\n",
       "      <td>Saint Francisville, Louisiana</td>\n",
       "      <td>5.0</td>\n",
       "      <td>77.0</td>\n",
       "      <td>1</td>\n",
       "      <td>1</td>\n",
       "    </tr>\n",
       "    <tr>\n",
       "      <th>6008</th>\n",
       "      <td>1305.0</td>\n",
       "      <td>Green Originals is a multi-disciplinary design...</td>\n",
       "      <td>1307.0</td>\n",
       "      <td>0</td>\n",
       "      <td>0</td>\n",
       "      <td>0</td>\n",
       "      <td>0</td>\n",
       "      <td>0</td>\n",
       "      <td>2008.0</td>\n",
       "      <td>greenoriginals</td>\n",
       "      <td>1</td>\n",
       "      <td>Carlsbad, California</td>\n",
       "      <td>0.0</td>\n",
       "      <td>0.0</td>\n",
       "      <td>1</td>\n",
       "      <td>0</td>\n",
       "    </tr>\n",
       "  </tbody>\n",
       "</table>\n",
       "<p>5992 rows × 16 columns</p>\n",
       "</div>"
      ],
      "text/plain": [
       "         Sales                                       Announcement  Admirer  \\\n",
       "0      35865.0  If you're planning a wedding, we invite you to...  46618.0   \n",
       "1     369750.0  Thank you all for a great 2022! We can't wait ...  40476.0   \n",
       "4       7283.0  Check out my new listings! More to come daily!...   2981.0   \n",
       "5      13691.0  Fake Cakes, Ice Cream Cones, Fake Cupcakes & O...  11495.0   \n",
       "6      10408.0  I also sell under the name Stitch Morgantown o...   1444.0   \n",
       "...        ...                                                ...      ...   \n",
       "6004     929.0                                                  0     60.0   \n",
       "6005      99.0  Welcome to my shop! Custom orders welcome. Spr...    936.0   \n",
       "6006     236.0                                  Cats rule!  =^-^=    367.0   \n",
       "6007    5497.0  What you can expect, here at Parish Farmgirl ....   2643.0   \n",
       "6008    1305.0  Green Originals is a multi-disciplinary design...   1307.0   \n",
       "\n",
       "      Badge  Category  Shipping  Review  Reply    Year             Seller  \\\n",
       "0         0        20         0       1      1  2008.0     jewelrybyjohan   \n",
       "1         0        21         0       1      1  2008.0         zoeysattic   \n",
       "4         1        17         1       1      1  2007.0  1000WordPhotoShop   \n",
       "5         1        20         1       1      1     0.0  12LegsCuriosities   \n",
       "6         1        15         1       1      1  2008.0    15PiecesofFlair   \n",
       "...     ...       ...       ...     ...    ...     ...                ...   \n",
       "6004      1        11         1       1      1     0.0               zray   \n",
       "6005      1        12         1       1      1     0.0     ZuriZenDesigns   \n",
       "6006      0         7         0       0      0  2009.0          beckyzimm   \n",
       "6007      0        13         1       1      0  2009.0     ParishFarmgirl   \n",
       "6008      0         0         0       0      0  2008.0     greenoriginals   \n",
       "\n",
       "      Announce                       Location  Rating  Total Items  Image  \\\n",
       "0            1             Oakdale, Minnesota     5.0        829.0      1   \n",
       "1            1             St Louis, Missouri     5.0       5038.0      1   \n",
       "4            1            Olympia, Washington     5.0        104.0      1   \n",
       "5            1                              0     5.0        686.0      1   \n",
       "6            1        Fairmont, West Virginia     5.0        934.0      1   \n",
       "...        ...                            ...     ...          ...    ...   \n",
       "6004         1               Cincinnati, Ohio     5.0        204.0      1   \n",
       "6005         1                              0     5.0         86.0      1   \n",
       "6006         1                Tucson, Arizona     5.0         77.0      1   \n",
       "6007         1  Saint Francisville, Louisiana     5.0         77.0      1   \n",
       "6008         1           Carlsbad, California     0.0          0.0      1   \n",
       "\n",
       "      Sales Dummy  \n",
       "0               1  \n",
       "1               1  \n",
       "4               1  \n",
       "5               1  \n",
       "6               1  \n",
       "...           ...  \n",
       "6004            0  \n",
       "6005            0  \n",
       "6006            0  \n",
       "6007            1  \n",
       "6008            0  \n",
       "\n",
       "[5992 rows x 16 columns]"
      ]
     },
     "execution_count": 139,
     "metadata": {},
     "output_type": "execute_result"
    }
   ],
   "source": [
    "Scraped_data"
   ]
  },
  {
   "cell_type": "code",
   "execution_count": 140,
   "id": "6bfd32ee",
   "metadata": {},
   "outputs": [],
   "source": [
    "Scraped_data['Total Items'] = Scraped_data['Total Items'].apply(lambda x: 1 if x == '1 item' else x)\n",
    "Scraped_data['Total Items']=Scraped_data['Total Items'].astype(float)"
   ]
  },
  {
   "cell_type": "code",
   "execution_count": 141,
   "id": "1a10947f",
   "metadata": {},
   "outputs": [
    {
     "data": {
      "text/plain": [
       "Sales           float64\n",
       "Announcement     object\n",
       "Admirer         float64\n",
       "Badge             int64\n",
       "Category          int64\n",
       "Shipping          int64\n",
       "Review            int64\n",
       "Reply             int64\n",
       "Year            float64\n",
       "Seller           object\n",
       "Announce          int64\n",
       "Location         object\n",
       "Rating          float64\n",
       "Total Items     float64\n",
       "Image             int64\n",
       "Sales Dummy       int64\n",
       "dtype: object"
      ]
     },
     "execution_count": 141,
     "metadata": {},
     "output_type": "execute_result"
    }
   ],
   "source": [
    "Scraped_data.dtypes"
   ]
  },
  {
   "cell_type": "code",
   "execution_count": 142,
   "id": "8baa29b1",
   "metadata": {},
   "outputs": [],
   "source": [
    "Scraped_data.fillna(0, inplace=True)\n",
    "Scraped_data.drop_duplicates(subset=['Seller'],inplace=True)"
   ]
  },
  {
   "cell_type": "code",
   "execution_count": 146,
   "id": "9216428d",
   "metadata": {},
   "outputs": [],
   "source": [
    "Scraped_data.to_excel('/Users/macbook/Desktop/ETSYCLEAN.xlsx')"
   ]
  },
  {
   "cell_type": "markdown",
   "id": "86011aee",
   "metadata": {},
   "source": [
    "# Logistic Reg (Dummy Sales)"
   ]
  },
  {
   "cell_type": "markdown",
   "id": "696e9933",
   "metadata": {},
   "source": [
    "----- SAMAN NOTE: The threshold is 50% and the result is good!"
   ]
  },
  {
   "cell_type": "code",
   "execution_count": 144,
   "id": "c1f9b800",
   "metadata": {},
   "outputs": [
    {
     "name": "stdout",
     "output_type": "stream",
     "text": [
      "Optimization terminated successfully.\n",
      "         Current function value: 0.425090\n",
      "         Iterations 8\n",
      "                           Logit Regression Results                           \n",
      "==============================================================================\n",
      "Dep. Variable:            Sales Dummy   No. Observations:                 5992\n",
      "Model:                          Logit   Df Residuals:                     5981\n",
      "Method:                           MLE   Df Model:                           10\n",
      "Date:                Sat, 11 Mar 2023   Pseudo R-squ.:                  0.3867\n",
      "Time:                        10:48:09   Log-Likelihood:                -2547.1\n",
      "converged:                       True   LL-Null:                       -4153.3\n",
      "Covariance Type:            nonrobust   LLR p-value:                     0.000\n",
      "===============================================================================\n",
      "                  coef    std err          z      P>|z|      [0.025      0.975]\n",
      "-------------------------------------------------------------------------------\n",
      "Rating          0.2992      0.076      3.943      0.000       0.151       0.448\n",
      "Image          -0.0902      0.139     -0.650      0.516      -0.362       0.182\n",
      "Announce       -3.9993      0.381    -10.506      0.000      -4.745      -3.253\n",
      "Admirer         0.0005   2.03e-05     25.731      0.000       0.000       0.001\n",
      "Badge           0.3280      0.147      2.224      0.026       0.039       0.617\n",
      "Category        0.0092      0.008      1.175      0.240      -0.006       0.025\n",
      "Shipping       -0.0094      0.102     -0.091      0.927      -0.210       0.191\n",
      "Review          1.2803      0.111     11.537      0.000       1.063       1.498\n",
      "Total Items     0.0018      0.000     10.077      0.000       0.001       0.002\n",
      "Year        -8.015e-05    4.1e-05     -1.955      0.051      -0.000     1.9e-07\n",
      "Reply          -0.2843      0.130     -2.184      0.029      -0.539      -0.029\n",
      "===============================================================================\n"
     ]
    }
   ],
   "source": [
    "x = Scraped_data[['Rating','Image','Announce','Admirer','Badge','Category','Shipping','Review','Total Items','Year','Reply']]\n",
    "y = Scraped_data['Sales Dummy']\n",
    "\n",
    "logit_model = sm.Logit(y,x)\n",
    "result = logit_model.fit()\n",
    "print(result.summary())\n"
   ]
  },
  {
   "cell_type": "code",
   "execution_count": 145,
   "id": "edc24cee",
   "metadata": {},
   "outputs": [
    {
     "name": "stdout",
     "output_type": "stream",
     "text": [
      "Accuracy: 78.56547122602169\n"
     ]
    },
    {
     "name": "stderr",
     "output_type": "stream",
     "text": [
      "/Users/macbook/opt/anaconda3/lib/python3.9/site-packages/sklearn/linear_model/_logistic.py:444: ConvergenceWarning: lbfgs failed to converge (status=1):\n",
      "STOP: TOTAL NO. of ITERATIONS REACHED LIMIT.\n",
      "\n",
      "Increase the number of iterations (max_iter) or scale the data as shown in:\n",
      "    https://scikit-learn.org/stable/modules/preprocessing.html\n",
      "Please also refer to the documentation for alternative solver options:\n",
      "    https://scikit-learn.org/stable/modules/linear_model.html#logistic-regression\n",
      "  n_iter_i = _check_optimize_result(\n"
     ]
    }
   ],
   "source": [
    "from sklearn.model_selection import train_test_split\n",
    "from sklearn.linear_model import LogisticRegression\n",
    "from sklearn.metrics import accuracy_score\n",
    "\n",
    "# Split the data into training and testing sets\n",
    "x_train, x_test, y_train, y_test = train_test_split(x, y, test_size=0.2, random_state=42)\n",
    "\n",
    "# Fit the model on the training set\n",
    "logreg = LogisticRegression()\n",
    "logreg.fit(x_train, y_train)\n",
    "\n",
    "# Predict sales on the testing set\n",
    "y_pred = logreg.predict(x_test)\n",
    "\n",
    "# Calculate accuracy\n",
    "accuracy = accuracy_score(y_test, y_pred)\n",
    "print(\"Accuracy:\", accuracy*100)\n"
   ]
  },
  {
   "cell_type": "markdown",
   "id": "d3f6970a",
   "metadata": {},
   "source": [
    "# Logistic Regression (Badge)"
   ]
  },
  {
   "cell_type": "markdown",
   "id": "8f27baf0",
   "metadata": {},
   "source": [
    "----- SAMAN NOTE: This NaN is very strange! but accuracy is good! I do selection but the accuracy drop So I think we should ignore Badge as the target variable. "
   ]
  },
  {
   "cell_type": "code",
   "execution_count": 149,
   "id": "b6836557",
   "metadata": {},
   "outputs": [
    {
     "name": "stdout",
     "output_type": "stream",
     "text": [
      "Warning: Maximum number of iterations has been exceeded.\n",
      "         Current function value: inf\n",
      "         Iterations: 35\n",
      "                           Logit Regression Results                           \n",
      "==============================================================================\n",
      "Dep. Variable:                  Badge   No. Observations:                 5992\n",
      "Model:                          Logit   Df Residuals:                     5981\n",
      "Method:                           MLE   Df Model:                           10\n",
      "Date:                Sat, 11 Mar 2023   Pseudo R-squ.:                    -inf\n",
      "Time:                        10:56:57   Log-Likelihood:                   -inf\n",
      "converged:                      False   LL-Null:                       -4081.5\n",
      "Covariance Type:            nonrobust   LLR p-value:                     1.000\n",
      "===============================================================================\n",
      "                  coef    std err          z      P>|z|      [0.025      0.975]\n",
      "-------------------------------------------------------------------------------\n",
      "Rating       9.221e+08   6.72e+17   1.37e-09      1.000   -1.32e+18    1.32e+18\n",
      "Image        3.258e+04   1.25e+35    2.6e-31      1.000   -2.46e+35    2.46e+35\n",
      "Announce     3.255e+09   8.58e+34   3.79e-26      1.000   -1.68e+35    1.68e+35\n",
      "Admirer        -1.2869        nan        nan        nan         nan         nan\n",
      "Sales           0.7549   2.32e+07   3.26e-08      1.000   -4.54e+07    4.54e+07\n",
      "Category      394.9423   6.73e+09   5.87e-08      1.000   -1.32e+10    1.32e+10\n",
      "Shipping    -5.856e+09   8.17e+11     -0.007      0.994   -1.61e+12     1.6e+12\n",
      "Review      -2.009e+09        nan        nan        nan         nan         nan\n",
      "Total Items  -116.1506   2.23e+08  -5.21e-07      1.000   -4.37e+08    4.37e+08\n",
      "Year            3.4510        nan        nan        nan         nan         nan\n",
      "Reply       -5.856e+09        nan        nan        nan         nan         nan\n",
      "===============================================================================\n"
     ]
    },
    {
     "name": "stderr",
     "output_type": "stream",
     "text": [
      "/Users/macbook/opt/anaconda3/lib/python3.9/site-packages/statsmodels/discrete/discrete_model.py:1819: RuntimeWarning: overflow encountered in exp\n",
      "  return 1/(1+np.exp(-X))\n",
      "/Users/macbook/opt/anaconda3/lib/python3.9/site-packages/statsmodels/discrete/discrete_model.py:1872: RuntimeWarning: divide by zero encountered in log\n",
      "  return np.sum(np.log(self.cdf(q*np.dot(X,params))))\n",
      "/Users/macbook/opt/anaconda3/lib/python3.9/site-packages/statsmodels/base/model.py:604: ConvergenceWarning: Maximum Likelihood optimization failed to converge. Check mle_retvals\n",
      "  warnings.warn(\"Maximum Likelihood optimization failed to \"\n",
      "/Users/macbook/opt/anaconda3/lib/python3.9/site-packages/statsmodels/discrete/discrete_model.py:1819: RuntimeWarning: overflow encountered in exp\n",
      "  return 1/(1+np.exp(-X))\n"
     ]
    }
   ],
   "source": [
    "x = Scraped_data[['Rating','Image','Announce','Admirer','Sales','Category','Shipping','Review','Total Items','Year','Reply']]\n",
    "y = Scraped_data['Badge']\n",
    "\n",
    "logit_model = sm.Logit(y,x)\n",
    "result = logit_model.fit()\n",
    "print(result.summary())"
   ]
  },
  {
   "cell_type": "code",
   "execution_count": 150,
   "id": "d0520d1c",
   "metadata": {},
   "outputs": [
    {
     "name": "stdout",
     "output_type": "stream",
     "text": [
      "Accuracy: 73.7281067556297\n"
     ]
    },
    {
     "name": "stderr",
     "output_type": "stream",
     "text": [
      "/Users/macbook/opt/anaconda3/lib/python3.9/site-packages/sklearn/linear_model/_logistic.py:444: ConvergenceWarning: lbfgs failed to converge (status=1):\n",
      "STOP: TOTAL NO. of ITERATIONS REACHED LIMIT.\n",
      "\n",
      "Increase the number of iterations (max_iter) or scale the data as shown in:\n",
      "    https://scikit-learn.org/stable/modules/preprocessing.html\n",
      "Please also refer to the documentation for alternative solver options:\n",
      "    https://scikit-learn.org/stable/modules/linear_model.html#logistic-regression\n",
      "  n_iter_i = _check_optimize_result(\n"
     ]
    }
   ],
   "source": [
    "from sklearn.model_selection import train_test_split\n",
    "from sklearn.linear_model import LogisticRegression\n",
    "from sklearn.metrics import accuracy_score\n",
    "\n",
    "# Split the data into training and testing sets\n",
    "x_train, x_test, y_train, y_test = train_test_split(x, y, test_size=0.2, random_state=42)\n",
    "\n",
    "# Fit the model on the training set\n",
    "logreg = LogisticRegression()\n",
    "logreg.fit(x_train, y_train)\n",
    "\n",
    "# Predict sales on the testing set\n",
    "y_pred = logreg.predict(x_test)\n",
    "\n",
    "# Calculate accuracy\n",
    "accuracy = accuracy_score(y_test, y_pred)\n",
    "print(\"Accuracy:\", accuracy*100)\n"
   ]
  },
  {
   "cell_type": "code",
   "execution_count": 151,
   "id": "6e5d3e5a",
   "metadata": {},
   "outputs": [
    {
     "name": "stdout",
     "output_type": "stream",
     "text": [
      "Optimization terminated successfully.\n",
      "         Current function value: 0.613482\n",
      "         Iterations 11\n",
      "                           Logit Regression Results                           \n",
      "==============================================================================\n",
      "Dep. Variable:                  Badge   No. Observations:                 5992\n",
      "Model:                          Logit   Df Residuals:                     5986\n",
      "Method:                           MLE   Df Model:                            5\n",
      "Date:                Sat, 11 Mar 2023   Pseudo R-squ.:                 0.09935\n",
      "Time:                        10:57:15   Log-Likelihood:                -3676.0\n",
      "converged:                       True   LL-Null:                       -4081.5\n",
      "Covariance Type:            nonrobust   LLR p-value:                4.761e-173\n",
      "===============================================================================\n",
      "                  coef    std err          z      P>|z|      [0.025      0.975]\n",
      "-------------------------------------------------------------------------------\n",
      "const         -26.7763      2.972     -9.011      0.000     -32.600     -20.952\n",
      "Rating          5.1240      0.595      8.615      0.000       3.958       6.290\n",
      "Sales        3.341e-06   1.26e-06      2.643      0.008    8.64e-07    5.82e-06\n",
      "Category        0.0655      0.006     11.525      0.000       0.054       0.077\n",
      "Total Items  2.393e-05    6.4e-05      0.374      0.708      -0.000       0.000\n",
      "Year            0.0002    3.3e-05      6.597      0.000       0.000       0.000\n",
      "===============================================================================\n"
     ]
    },
    {
     "name": "stderr",
     "output_type": "stream",
     "text": [
      "/Users/macbook/opt/anaconda3/lib/python3.9/site-packages/statsmodels/base/model.py:127: ValueWarning: unknown kwargs ['method']\n",
      "  warnings.warn(msg, ValueWarning)\n",
      "/Users/macbook/opt/anaconda3/lib/python3.9/site-packages/statsmodels/base/model.py:127: ValueWarning: unknown kwargs ['method']\n",
      "  warnings.warn(msg, ValueWarning)\n"
     ]
    }
   ],
   "source": [
    "import statsmodels.api as sm\n",
    "\n",
    "# Select relevant columns\n",
    "x = Scraped_data[['Rating', 'Sales', 'Category', 'Total Items', 'Year']]\n",
    "\n",
    "# Add constant term for intercept\n",
    "x = sm.add_constant(x)\n",
    "\n",
    "y = Scraped_data['Badge']\n",
    "\n",
    "# Fit logistic regression model with L-BFGS optimizer\n",
    "logit_model = sm.Logit(y, x, method='lbfgs')\n",
    "result = logit_model.fit()\n",
    "\n",
    "# Print model summary\n",
    "print(result.summary())\n"
   ]
  },
  {
   "cell_type": "code",
   "execution_count": 152,
   "id": "17f1085f",
   "metadata": {},
   "outputs": [
    {
     "name": "stdout",
     "output_type": "stream",
     "text": [
      "Accuracy: 58.798999165971644\n"
     ]
    }
   ],
   "source": [
    "from sklearn.model_selection import train_test_split\n",
    "from sklearn.linear_model import LogisticRegression\n",
    "from sklearn.metrics import accuracy_score\n",
    "\n",
    "# Split the data into training and testing sets\n",
    "x_train, x_test, y_train, y_test = train_test_split(x, y, test_size=0.2, random_state=42)\n",
    "\n",
    "# Fit the model on the training set\n",
    "logreg = LogisticRegression()\n",
    "logreg.fit(x_train, y_train)\n",
    "\n",
    "# Predict sales on the testing set\n",
    "y_pred = logreg.predict(x_test)\n",
    "\n",
    "# Calculate accuracy\n",
    "accuracy = accuracy_score(y_test, y_pred)\n",
    "print(\"Accuracy:\", accuracy*100)\n"
   ]
  },
  {
   "cell_type": "markdown",
   "id": "58a6b8d6",
   "metadata": {},
   "source": [
    "# Linear Regression (Number of Sales)"
   ]
  },
  {
   "cell_type": "code",
   "execution_count": 161,
   "id": "c74dfa12",
   "metadata": {},
   "outputs": [
    {
     "name": "stdout",
     "output_type": "stream",
     "text": [
      "                            OLS Regression Results                            \n",
      "==============================================================================\n",
      "Dep. Variable:                  Sales   R-squared:                       0.516\n",
      "Model:                            OLS   Adj. R-squared:                  0.515\n",
      "Method:                 Least Squares   F-statistic:                     638.0\n",
      "Date:                Sat, 11 Mar 2023   Prob (F-statistic):               0.00\n",
      "Time:                        11:14:13   Log-Likelihood:                -68383.\n",
      "No. Observations:                5992   AIC:                         1.368e+05\n",
      "Df Residuals:                    5981   BIC:                         1.369e+05\n",
      "Df Model:                          10                                         \n",
      "Covariance Type:            nonrobust                                         \n",
      "===============================================================================\n",
      "                  coef    std err          t      P>|t|      [0.025      0.975]\n",
      "-------------------------------------------------------------------------------\n",
      "Rating       -349.1241    295.948     -1.180      0.238    -929.289     231.040\n",
      "Image        -129.1043   1141.075     -0.113      0.910   -2366.022    2107.814\n",
      "Announce     -424.7173   1581.209     -0.269      0.788   -3524.456    2675.022\n",
      "Admirer         1.8660      0.042     44.655      0.000       1.784       1.948\n",
      "Badge        2039.1208   1257.260      1.622      0.105    -425.563    4503.805\n",
      "Category      238.4932     56.044      4.255      0.000     128.626     348.361\n",
      "Shipping     -512.5841    862.940     -0.594      0.553   -2204.259    1179.090\n",
      "Review       1134.2368    879.984      1.289      0.197    -590.850    2859.323\n",
      "Total Items    13.2447      0.301     43.955      0.000      12.654      13.835\n",
      "Year           -0.9664      0.344     -2.811      0.005      -1.640      -0.293\n",
      "Reply        -963.8565   1116.124     -0.864      0.388   -3151.862    1224.149\n",
      "==============================================================================\n",
      "Omnibus:                     8968.938   Durbin-Watson:                   1.993\n",
      "Prob(Omnibus):                  0.000   Jarque-Bera (JB):          6242677.102\n",
      "Skew:                           8.980   Prob(JB):                         0.00\n",
      "Kurtosis:                     160.103   Cond. No.                     5.26e+04\n",
      "==============================================================================\n",
      "\n",
      "Notes:\n",
      "[1] Standard Errors assume that the covariance matrix of the errors is correctly specified.\n",
      "[2] The condition number is large, 5.26e+04. This might indicate that there are\n",
      "strong multicollinearity or other numerical problems.\n"
     ]
    }
   ],
   "source": [
    "from sklearn.linear_model import LinearRegression\n",
    "\n",
    "x = Scraped_data[['Rating','Image','Announce','Admirer','Badge','Category','Shipping','Review','Total Items','Year','Reply']]\n",
    "y = Scraped_data['Sales']\n",
    "\n",
    "# add a constant term to the input data\n",
    "x = sm.add_constant(x)\n",
    "\n",
    "# fit the OLS model\n",
    "model = sm.OLS(y, x).fit()\n",
    "\n",
    "# print the summary table\n",
    "print(model.summary())\n"
   ]
  },
  {
   "cell_type": "markdown",
   "id": "ecdff056",
   "metadata": {},
   "source": [
    "----- SAMAN NOTE : Now the R sqaure is not good we can work on it by doing feature engineering like log and etc"
   ]
  }
 ],
 "metadata": {
  "kernelspec": {
   "display_name": "Python 3 (ipykernel)",
   "language": "python",
   "name": "python3"
  },
  "language_info": {
   "codemirror_mode": {
    "name": "ipython",
    "version": 3
   },
   "file_extension": ".py",
   "mimetype": "text/x-python",
   "name": "python",
   "nbconvert_exporter": "python",
   "pygments_lexer": "ipython3",
   "version": "3.9.12"
  }
 },
 "nbformat": 4,
 "nbformat_minor": 5
}
