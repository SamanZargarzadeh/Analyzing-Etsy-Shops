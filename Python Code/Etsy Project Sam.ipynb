{
 "cells": [
  {
   "cell_type": "markdown",
   "id": "c2005a58",
   "metadata": {},
   "source": [
    "# Importing Lib"
   ]
  },
  {
   "cell_type": "code",
   "execution_count": 1,
   "id": "ab224cb2",
   "metadata": {},
   "outputs": [],
   "source": [
    "import pandas as pd\n",
    "import numpy as np\n",
    "import re\n",
    "import matplotlib.pyplot as plt\n",
    "import seaborn as sns\n",
    "import scipy\n",
    "from scipy import stats\n",
    "import plotly.express as px\n",
    "import math\n",
    "import statsmodels.api as sm\n",
    "from sklearn.linear_model import LinearRegression\n",
    "\n",
    "%matplotlib inline"
   ]
  },
  {
   "cell_type": "markdown",
   "id": "9b01ce35",
   "metadata": {},
   "source": [
    "# Data Cleaning"
   ]
  },
  {
   "cell_type": "code",
   "execution_count": 49,
   "id": "8fff4a27",
   "metadata": {
    "scrolled": true
   },
   "outputs": [
    {
     "data": {
      "text/html": [
       "<div>\n",
       "<style scoped>\n",
       "    .dataframe tbody tr th:only-of-type {\n",
       "        vertical-align: middle;\n",
       "    }\n",
       "\n",
       "    .dataframe tbody tr th {\n",
       "        vertical-align: top;\n",
       "    }\n",
       "\n",
       "    .dataframe thead th {\n",
       "        text-align: right;\n",
       "    }\n",
       "</style>\n",
       "<table border=\"1\" class=\"dataframe\">\n",
       "  <thead>\n",
       "    <tr style=\"text-align: right;\">\n",
       "      <th></th>\n",
       "      <th>Sales</th>\n",
       "      <th>Announcement</th>\n",
       "      <th>Admirer</th>\n",
       "      <th>Badge</th>\n",
       "      <th>Category</th>\n",
       "      <th>Shipping</th>\n",
       "      <th>Review</th>\n",
       "      <th>Reply</th>\n",
       "      <th>Year</th>\n",
       "      <th>Seller</th>\n",
       "      <th>Announce</th>\n",
       "      <th>Location</th>\n",
       "      <th>Rating</th>\n",
       "      <th>Total Items</th>\n",
       "      <th>Image</th>\n",
       "    </tr>\n",
       "  </thead>\n",
       "  <tbody>\n",
       "    <tr>\n",
       "      <th>0</th>\n",
       "      <td>35865.0</td>\n",
       "      <td>If you're planning a wedding, we invite you to...</td>\n",
       "      <td>46618.0</td>\n",
       "      <td>0</td>\n",
       "      <td>20</td>\n",
       "      <td>0</td>\n",
       "      <td>1</td>\n",
       "      <td>1</td>\n",
       "      <td>2008.0</td>\n",
       "      <td>jewelrybyjohan</td>\n",
       "      <td>1</td>\n",
       "      <td>Oakdale, Minnesota</td>\n",
       "      <td>5.0</td>\n",
       "      <td>829</td>\n",
       "      <td>1</td>\n",
       "    </tr>\n",
       "    <tr>\n",
       "      <th>1</th>\n",
       "      <td>369750.0</td>\n",
       "      <td>Thank you all for a great 2022! We can't wait ...</td>\n",
       "      <td>40476.0</td>\n",
       "      <td>0</td>\n",
       "      <td>21</td>\n",
       "      <td>0</td>\n",
       "      <td>1</td>\n",
       "      <td>1</td>\n",
       "      <td>2008.0</td>\n",
       "      <td>zoeysattic</td>\n",
       "      <td>1</td>\n",
       "      <td>St Louis, Missouri</td>\n",
       "      <td>5.0</td>\n",
       "      <td>5038</td>\n",
       "      <td>1</td>\n",
       "    </tr>\n",
       "    <tr>\n",
       "      <th>2</th>\n",
       "      <td>369755.0</td>\n",
       "      <td>Thank you all for a great 2022! We can't wait ...</td>\n",
       "      <td>40476.0</td>\n",
       "      <td>0</td>\n",
       "      <td>21</td>\n",
       "      <td>0</td>\n",
       "      <td>1</td>\n",
       "      <td>1</td>\n",
       "      <td>2008.0</td>\n",
       "      <td>zoeysattic</td>\n",
       "      <td>1</td>\n",
       "      <td>St Louis, Missouri</td>\n",
       "      <td>5.0</td>\n",
       "      <td>5038</td>\n",
       "      <td>1</td>\n",
       "    </tr>\n",
       "    <tr>\n",
       "      <th>3</th>\n",
       "      <td>369757.0</td>\n",
       "      <td>Thank you all for a great 2022! We can't wait ...</td>\n",
       "      <td>40476.0</td>\n",
       "      <td>0</td>\n",
       "      <td>21</td>\n",
       "      <td>0</td>\n",
       "      <td>1</td>\n",
       "      <td>1</td>\n",
       "      <td>2008.0</td>\n",
       "      <td>zoeysattic</td>\n",
       "      <td>1</td>\n",
       "      <td>St Louis, Missouri</td>\n",
       "      <td>5.0</td>\n",
       "      <td>5038</td>\n",
       "      <td>1</td>\n",
       "    </tr>\n",
       "    <tr>\n",
       "      <th>4</th>\n",
       "      <td>7283.0</td>\n",
       "      <td>Check out my new listings! More to come daily!...</td>\n",
       "      <td>2981.0</td>\n",
       "      <td>1</td>\n",
       "      <td>17</td>\n",
       "      <td>1</td>\n",
       "      <td>1</td>\n",
       "      <td>1</td>\n",
       "      <td>2007.0</td>\n",
       "      <td>1000WordPhotoShop</td>\n",
       "      <td>1</td>\n",
       "      <td>Olympia, Washington</td>\n",
       "      <td>5.0</td>\n",
       "      <td>104</td>\n",
       "      <td>1</td>\n",
       "    </tr>\n",
       "  </tbody>\n",
       "</table>\n",
       "</div>"
      ],
      "text/plain": [
       "      Sales                                       Announcement  Admirer  \\\n",
       "0   35865.0  If you're planning a wedding, we invite you to...  46618.0   \n",
       "1  369750.0  Thank you all for a great 2022! We can't wait ...  40476.0   \n",
       "2  369755.0  Thank you all for a great 2022! We can't wait ...  40476.0   \n",
       "3  369757.0  Thank you all for a great 2022! We can't wait ...  40476.0   \n",
       "4    7283.0  Check out my new listings! More to come daily!...   2981.0   \n",
       "\n",
       "   Badge  Category  Shipping  Review  Reply    Year             Seller  \\\n",
       "0      0        20         0       1      1  2008.0     jewelrybyjohan   \n",
       "1      0        21         0       1      1  2008.0         zoeysattic   \n",
       "2      0        21         0       1      1  2008.0         zoeysattic   \n",
       "3      0        21         0       1      1  2008.0         zoeysattic   \n",
       "4      1        17         1       1      1  2007.0  1000WordPhotoShop   \n",
       "\n",
       "   Announce             Location  Rating Total Items  Image  \n",
       "0         1   Oakdale, Minnesota     5.0        829       1  \n",
       "1         1   St Louis, Missouri     5.0       5038       1  \n",
       "2         1   St Louis, Missouri     5.0       5038       1  \n",
       "3         1   St Louis, Missouri     5.0       5038       1  \n",
       "4         1  Olympia, Washington     5.0        104       1  "
      ]
     },
     "execution_count": 49,
     "metadata": {},
     "output_type": "execute_result"
    }
   ],
   "source": [
    "Scraped_data = pd.read_excel('/Users/macbook/Desktop/etsyfinal4.xlsx')\n",
    "Scraped_data.head()"
   ]
  },
  {
   "cell_type": "code",
   "execution_count": 50,
   "id": "931be1de",
   "metadata": {},
   "outputs": [
    {
     "data": {
      "text/plain": [
       "count      5995.000000\n",
       "mean      11110.857548\n",
       "std       32165.482278\n",
       "min           2.000000\n",
       "25%         910.000000\n",
       "50%        3175.000000\n",
       "75%        9465.000000\n",
       "max      950812.000000\n",
       "Name: Sales, dtype: float64"
      ]
     },
     "execution_count": 50,
     "metadata": {},
     "output_type": "execute_result"
    }
   ],
   "source": [
    "Scraped_data['Sales'].describe()"
   ]
  },
  {
   "cell_type": "code",
   "execution_count": 51,
   "id": "5693a291",
   "metadata": {},
   "outputs": [
    {
     "data": {
      "text/html": [
       "<div>\n",
       "<style scoped>\n",
       "    .dataframe tbody tr th:only-of-type {\n",
       "        vertical-align: middle;\n",
       "    }\n",
       "\n",
       "    .dataframe tbody tr th {\n",
       "        vertical-align: top;\n",
       "    }\n",
       "\n",
       "    .dataframe thead th {\n",
       "        text-align: right;\n",
       "    }\n",
       "</style>\n",
       "<table border=\"1\" class=\"dataframe\">\n",
       "  <thead>\n",
       "    <tr style=\"text-align: right;\">\n",
       "      <th></th>\n",
       "      <th>Sales</th>\n",
       "      <th>Announcement</th>\n",
       "      <th>Admirer</th>\n",
       "      <th>Badge</th>\n",
       "      <th>Category</th>\n",
       "      <th>Shipping</th>\n",
       "      <th>Review</th>\n",
       "      <th>Reply</th>\n",
       "      <th>Year</th>\n",
       "      <th>Seller</th>\n",
       "      <th>Announce</th>\n",
       "      <th>Location</th>\n",
       "      <th>Rating</th>\n",
       "      <th>Total Items</th>\n",
       "      <th>Image</th>\n",
       "    </tr>\n",
       "  </thead>\n",
       "  <tbody>\n",
       "    <tr>\n",
       "      <th>0</th>\n",
       "      <td>35865.0</td>\n",
       "      <td>If you're planning a wedding, we invite you to...</td>\n",
       "      <td>46618.0</td>\n",
       "      <td>0</td>\n",
       "      <td>20</td>\n",
       "      <td>0</td>\n",
       "      <td>1</td>\n",
       "      <td>1</td>\n",
       "      <td>2008.0</td>\n",
       "      <td>jewelrybyjohan</td>\n",
       "      <td>1</td>\n",
       "      <td>Oakdale, Minnesota</td>\n",
       "      <td>5.0</td>\n",
       "      <td>829</td>\n",
       "      <td>1</td>\n",
       "    </tr>\n",
       "    <tr>\n",
       "      <th>1</th>\n",
       "      <td>369750.0</td>\n",
       "      <td>Thank you all for a great 2022! We can't wait ...</td>\n",
       "      <td>40476.0</td>\n",
       "      <td>0</td>\n",
       "      <td>21</td>\n",
       "      <td>0</td>\n",
       "      <td>1</td>\n",
       "      <td>1</td>\n",
       "      <td>2008.0</td>\n",
       "      <td>zoeysattic</td>\n",
       "      <td>1</td>\n",
       "      <td>St Louis, Missouri</td>\n",
       "      <td>5.0</td>\n",
       "      <td>5038</td>\n",
       "      <td>1</td>\n",
       "    </tr>\n",
       "    <tr>\n",
       "      <th>2</th>\n",
       "      <td>369755.0</td>\n",
       "      <td>Thank you all for a great 2022! We can't wait ...</td>\n",
       "      <td>40476.0</td>\n",
       "      <td>0</td>\n",
       "      <td>21</td>\n",
       "      <td>0</td>\n",
       "      <td>1</td>\n",
       "      <td>1</td>\n",
       "      <td>2008.0</td>\n",
       "      <td>zoeysattic</td>\n",
       "      <td>1</td>\n",
       "      <td>St Louis, Missouri</td>\n",
       "      <td>5.0</td>\n",
       "      <td>5038</td>\n",
       "      <td>1</td>\n",
       "    </tr>\n",
       "    <tr>\n",
       "      <th>3</th>\n",
       "      <td>369757.0</td>\n",
       "      <td>Thank you all for a great 2022! We can't wait ...</td>\n",
       "      <td>40476.0</td>\n",
       "      <td>0</td>\n",
       "      <td>21</td>\n",
       "      <td>0</td>\n",
       "      <td>1</td>\n",
       "      <td>1</td>\n",
       "      <td>2008.0</td>\n",
       "      <td>zoeysattic</td>\n",
       "      <td>1</td>\n",
       "      <td>St Louis, Missouri</td>\n",
       "      <td>5.0</td>\n",
       "      <td>5038</td>\n",
       "      <td>1</td>\n",
       "    </tr>\n",
       "    <tr>\n",
       "      <th>4</th>\n",
       "      <td>7283.0</td>\n",
       "      <td>Check out my new listings! More to come daily!...</td>\n",
       "      <td>2981.0</td>\n",
       "      <td>1</td>\n",
       "      <td>17</td>\n",
       "      <td>1</td>\n",
       "      <td>1</td>\n",
       "      <td>1</td>\n",
       "      <td>2007.0</td>\n",
       "      <td>1000WordPhotoShop</td>\n",
       "      <td>1</td>\n",
       "      <td>Olympia, Washington</td>\n",
       "      <td>5.0</td>\n",
       "      <td>104</td>\n",
       "      <td>1</td>\n",
       "    </tr>\n",
       "    <tr>\n",
       "      <th>...</th>\n",
       "      <td>...</td>\n",
       "      <td>...</td>\n",
       "      <td>...</td>\n",
       "      <td>...</td>\n",
       "      <td>...</td>\n",
       "      <td>...</td>\n",
       "      <td>...</td>\n",
       "      <td>...</td>\n",
       "      <td>...</td>\n",
       "      <td>...</td>\n",
       "      <td>...</td>\n",
       "      <td>...</td>\n",
       "      <td>...</td>\n",
       "      <td>...</td>\n",
       "      <td>...</td>\n",
       "    </tr>\n",
       "    <tr>\n",
       "      <th>6004</th>\n",
       "      <td>929.0</td>\n",
       "      <td>NaN</td>\n",
       "      <td>60.0</td>\n",
       "      <td>1</td>\n",
       "      <td>11</td>\n",
       "      <td>1</td>\n",
       "      <td>1</td>\n",
       "      <td>1</td>\n",
       "      <td>NaN</td>\n",
       "      <td>zray</td>\n",
       "      <td>1</td>\n",
       "      <td>Cincinnati, Ohio</td>\n",
       "      <td>5.0</td>\n",
       "      <td>204</td>\n",
       "      <td>1</td>\n",
       "    </tr>\n",
       "    <tr>\n",
       "      <th>6005</th>\n",
       "      <td>99.0</td>\n",
       "      <td>Welcome to my shop! Custom orders welcome. Spr...</td>\n",
       "      <td>936.0</td>\n",
       "      <td>1</td>\n",
       "      <td>12</td>\n",
       "      <td>1</td>\n",
       "      <td>1</td>\n",
       "      <td>1</td>\n",
       "      <td>NaN</td>\n",
       "      <td>ZuriZenDesigns</td>\n",
       "      <td>1</td>\n",
       "      <td>NaN</td>\n",
       "      <td>5.0</td>\n",
       "      <td>86</td>\n",
       "      <td>1</td>\n",
       "    </tr>\n",
       "    <tr>\n",
       "      <th>6006</th>\n",
       "      <td>236.0</td>\n",
       "      <td>Cats rule!  =^-^=</td>\n",
       "      <td>367.0</td>\n",
       "      <td>0</td>\n",
       "      <td>7</td>\n",
       "      <td>0</td>\n",
       "      <td>0</td>\n",
       "      <td>0</td>\n",
       "      <td>2009.0</td>\n",
       "      <td>beckyzimm</td>\n",
       "      <td>1</td>\n",
       "      <td>Tucson, Arizona</td>\n",
       "      <td>5.0</td>\n",
       "      <td>77</td>\n",
       "      <td>1</td>\n",
       "    </tr>\n",
       "    <tr>\n",
       "      <th>6007</th>\n",
       "      <td>5497.0</td>\n",
       "      <td>What you can expect, here at Parish Farmgirl ....</td>\n",
       "      <td>2643.0</td>\n",
       "      <td>0</td>\n",
       "      <td>13</td>\n",
       "      <td>1</td>\n",
       "      <td>1</td>\n",
       "      <td>0</td>\n",
       "      <td>2009.0</td>\n",
       "      <td>ParishFarmgirl</td>\n",
       "      <td>1</td>\n",
       "      <td>Saint Francisville, Louisiana</td>\n",
       "      <td>5.0</td>\n",
       "      <td>77</td>\n",
       "      <td>1</td>\n",
       "    </tr>\n",
       "    <tr>\n",
       "      <th>6008</th>\n",
       "      <td>1305.0</td>\n",
       "      <td>Green Originals is a multi-disciplinary design...</td>\n",
       "      <td>1307.0</td>\n",
       "      <td>0</td>\n",
       "      <td>0</td>\n",
       "      <td>0</td>\n",
       "      <td>0</td>\n",
       "      <td>0</td>\n",
       "      <td>2008.0</td>\n",
       "      <td>greenoriginals</td>\n",
       "      <td>1</td>\n",
       "      <td>Carlsbad, California</td>\n",
       "      <td>0.0</td>\n",
       "      <td>0</td>\n",
       "      <td>1</td>\n",
       "    </tr>\n",
       "  </tbody>\n",
       "</table>\n",
       "<p>6009 rows × 15 columns</p>\n",
       "</div>"
      ],
      "text/plain": [
       "         Sales                                       Announcement  Admirer  \\\n",
       "0      35865.0  If you're planning a wedding, we invite you to...  46618.0   \n",
       "1     369750.0  Thank you all for a great 2022! We can't wait ...  40476.0   \n",
       "2     369755.0  Thank you all for a great 2022! We can't wait ...  40476.0   \n",
       "3     369757.0  Thank you all for a great 2022! We can't wait ...  40476.0   \n",
       "4       7283.0  Check out my new listings! More to come daily!...   2981.0   \n",
       "...        ...                                                ...      ...   \n",
       "6004     929.0                                                NaN     60.0   \n",
       "6005      99.0  Welcome to my shop! Custom orders welcome. Spr...    936.0   \n",
       "6006     236.0                                  Cats rule!  =^-^=    367.0   \n",
       "6007    5497.0  What you can expect, here at Parish Farmgirl ....   2643.0   \n",
       "6008    1305.0  Green Originals is a multi-disciplinary design...   1307.0   \n",
       "\n",
       "      Badge  Category  Shipping  Review  Reply    Year             Seller  \\\n",
       "0         0        20         0       1      1  2008.0     jewelrybyjohan   \n",
       "1         0        21         0       1      1  2008.0         zoeysattic   \n",
       "2         0        21         0       1      1  2008.0         zoeysattic   \n",
       "3         0        21         0       1      1  2008.0         zoeysattic   \n",
       "4         1        17         1       1      1  2007.0  1000WordPhotoShop   \n",
       "...     ...       ...       ...     ...    ...     ...                ...   \n",
       "6004      1        11         1       1      1     NaN               zray   \n",
       "6005      1        12         1       1      1     NaN     ZuriZenDesigns   \n",
       "6006      0         7         0       0      0  2009.0          beckyzimm   \n",
       "6007      0        13         1       1      0  2009.0     ParishFarmgirl   \n",
       "6008      0         0         0       0      0  2008.0     greenoriginals   \n",
       "\n",
       "      Announce                       Location  Rating Total Items  Image  \n",
       "0            1             Oakdale, Minnesota     5.0        829       1  \n",
       "1            1             St Louis, Missouri     5.0       5038       1  \n",
       "2            1             St Louis, Missouri     5.0       5038       1  \n",
       "3            1             St Louis, Missouri     5.0       5038       1  \n",
       "4            1            Olympia, Washington     5.0        104       1  \n",
       "...        ...                            ...     ...         ...    ...  \n",
       "6004         1               Cincinnati, Ohio     5.0        204       1  \n",
       "6005         1                            NaN     5.0         86       1  \n",
       "6006         1                Tucson, Arizona     5.0         77       1  \n",
       "6007         1  Saint Francisville, Louisiana     5.0         77       1  \n",
       "6008         1           Carlsbad, California     0.0          0       1  \n",
       "\n",
       "[6009 rows x 15 columns]"
      ]
     },
     "execution_count": 51,
     "metadata": {},
     "output_type": "execute_result"
    }
   ],
   "source": [
    "Scraped_data"
   ]
  },
  {
   "cell_type": "code",
   "execution_count": 56,
   "id": "a087c107",
   "metadata": {},
   "outputs": [],
   "source": [
    "Scraped_data['Announce']=Scraped_data['Announcement'].fillna(0)\n",
    "Scraped_data['Announce'] = np.where(Scraped_data['Announce']==0, 0, 1)"
   ]
  },
  {
   "cell_type": "code",
   "execution_count": 57,
   "id": "6bfd32ee",
   "metadata": {},
   "outputs": [],
   "source": [
    "Scraped_data['Total Items'] = Scraped_data['Total Items'].apply(lambda x: 1 if x == '1 item' else x)\n",
    "Scraped_data['Total Items']=Scraped_data['Total Items'].astype(float)"
   ]
  },
  {
   "cell_type": "code",
   "execution_count": 58,
   "id": "1a10947f",
   "metadata": {},
   "outputs": [
    {
     "data": {
      "text/plain": [
       "Sales           float64\n",
       "Announcement     object\n",
       "Admirer         float64\n",
       "Badge             int64\n",
       "Category          int64\n",
       "Shipping          int64\n",
       "Review            int64\n",
       "Reply             int64\n",
       "Year            float64\n",
       "Seller           object\n",
       "Announce          int64\n",
       "Location         object\n",
       "Rating          float64\n",
       "Total Items     float64\n",
       "Image             int64\n",
       "dtype: object"
      ]
     },
     "execution_count": 58,
     "metadata": {},
     "output_type": "execute_result"
    }
   ],
   "source": [
    "Scraped_data.dtypes"
   ]
  },
  {
   "cell_type": "code",
   "execution_count": 59,
   "id": "8baa29b1",
   "metadata": {},
   "outputs": [],
   "source": [
    "Scraped_data.fillna(0, inplace=True)\n",
    "Scraped_data.drop_duplicates(subset=['Seller'],inplace=True)"
   ]
  },
  {
   "cell_type": "code",
   "execution_count": 60,
   "id": "6f6da11c",
   "metadata": {},
   "outputs": [
    {
     "name": "stdout",
     "output_type": "stream",
     "text": [
      "3148.0\n"
     ]
    }
   ],
   "source": [
    "threshold=np.percentile(Scraped_data['Sales'], 50)\n",
    "print(threshold)\n",
    "Scraped_data['Sales Dummy']=0\n",
    "Scraped_data['Sales Dummy'] = Scraped_data['Sales'].apply(lambda x: 1 if x>=threshold else 0)"
   ]
  },
  {
   "cell_type": "code",
   "execution_count": 61,
   "id": "9216428d",
   "metadata": {},
   "outputs": [],
   "source": [
    "#Scraped_data.to_excel('/Users/macbook/Desktop/ETSYCLEAN.xlsx')"
   ]
  },
  {
   "cell_type": "markdown",
   "id": "86011aee",
   "metadata": {},
   "source": [
    "# Logistic Reg (Dummy Sales)"
   ]
  },
  {
   "cell_type": "markdown",
   "id": "696e9933",
   "metadata": {},
   "source": [
    "----- SAMAN NOTE: The threshold is 50% and the result is good!"
   ]
  },
  {
   "cell_type": "code",
   "execution_count": 80,
   "id": "c1f9b800",
   "metadata": {},
   "outputs": [
    {
     "name": "stdout",
     "output_type": "stream",
     "text": [
      "Optimization terminated successfully.\n",
      "         Current function value: 0.442236\n",
      "         Iterations 8\n",
      "                           Logit Regression Results                           \n",
      "==============================================================================\n",
      "Dep. Variable:            Sales Dummy   No. Observations:                 5992\n",
      "Model:                          Logit   Df Residuals:                     5981\n",
      "Method:                           MLE   Df Model:                           10\n",
      "Date:                Wed, 15 Mar 2023   Pseudo R-squ.:                  0.3620\n",
      "Time:                        14:16:06   Log-Likelihood:                -2649.9\n",
      "converged:                       True   LL-Null:                       -4153.3\n",
      "Covariance Type:            nonrobust   LLR p-value:                     0.000\n",
      "===============================================================================\n",
      "                  coef    std err          z      P>|z|      [0.025      0.975]\n",
      "-------------------------------------------------------------------------------\n",
      "Rating         -0.2609      0.027     -9.781      0.000      -0.313      -0.209\n",
      "Image          -0.8828      0.112     -7.895      0.000      -1.102      -0.664\n",
      "Announce       -0.7542      0.099     -7.592      0.000      -0.949      -0.560\n",
      "Admirer         0.0005   2.06e-05     26.175      0.000       0.000       0.001\n",
      "Badge           0.3283      0.148      2.223      0.026       0.039       0.618\n",
      "Category        0.0143      0.008      1.829      0.067      -0.001       0.030\n",
      "Shipping        0.0092      0.103      0.090      0.928      -0.192       0.210\n",
      "Review          1.4001      0.111     12.598      0.000       1.182       1.618\n",
      "Total Items     0.0017      0.000      9.997      0.000       0.001       0.002\n",
      "Reply          -0.2520      0.130     -1.936      0.053      -0.507       0.003\n",
      "Year        -9.098e-05   3.99e-05     -2.283      0.022      -0.000   -1.29e-05\n",
      "===============================================================================\n"
     ]
    }
   ],
   "source": [
    "x = Scraped_data[['Rating','Image','Announce','Admirer','Badge','Category','Shipping','Review','Total Items','Reply','Year']]\n",
    "y = Scraped_data['Sales Dummy']\n",
    "       \n",
    "logit_model = sm.Logit(y,x)\n",
    "result = logit_model.fit()\n",
    "print(result.summary())\n"
   ]
  },
  {
   "cell_type": "code",
   "execution_count": 81,
   "id": "adbf48f4",
   "metadata": {},
   "outputs": [
    {
     "name": "stderr",
     "output_type": "stream",
     "text": [
      "/var/folders/s5/4b25bvq14pqbm1qxsg0hhlr40000gn/T/ipykernel_39350/242564454.py:2: FutureWarning: In a future version of pandas all arguments of DataFrame.any and Series.any will be keyword-only.\n",
      "  etsy = Scraped_data[~Scraped_data.isin([np.nan, np.inf, -np.inf]).any(1)]\n"
     ]
    },
    {
     "data": {
      "text/html": [
       "<div>\n",
       "<style scoped>\n",
       "    .dataframe tbody tr th:only-of-type {\n",
       "        vertical-align: middle;\n",
       "    }\n",
       "\n",
       "    .dataframe tbody tr th {\n",
       "        vertical-align: top;\n",
       "    }\n",
       "\n",
       "    .dataframe thead th {\n",
       "        text-align: right;\n",
       "    }\n",
       "</style>\n",
       "<table border=\"1\" class=\"dataframe\">\n",
       "  <thead>\n",
       "    <tr style=\"text-align: right;\">\n",
       "      <th></th>\n",
       "      <th>feature</th>\n",
       "      <th>VIF</th>\n",
       "    </tr>\n",
       "  </thead>\n",
       "  <tbody>\n",
       "    <tr>\n",
       "      <th>0</th>\n",
       "      <td>Admirer</td>\n",
       "      <td>1.567498</td>\n",
       "    </tr>\n",
       "    <tr>\n",
       "      <th>1</th>\n",
       "      <td>Badge</td>\n",
       "      <td>8.352376</td>\n",
       "    </tr>\n",
       "    <tr>\n",
       "      <th>2</th>\n",
       "      <td>Category</td>\n",
       "      <td>4.583314</td>\n",
       "    </tr>\n",
       "    <tr>\n",
       "      <th>3</th>\n",
       "      <td>Shipping</td>\n",
       "      <td>5.341978</td>\n",
       "    </tr>\n",
       "    <tr>\n",
       "      <th>4</th>\n",
       "      <td>Review</td>\n",
       "      <td>7.065757</td>\n",
       "    </tr>\n",
       "    <tr>\n",
       "      <th>5</th>\n",
       "      <td>Reply</td>\n",
       "      <td>7.607590</td>\n",
       "    </tr>\n",
       "    <tr>\n",
       "      <th>6</th>\n",
       "      <td>Year</td>\n",
       "      <td>4.404198</td>\n",
       "    </tr>\n",
       "    <tr>\n",
       "      <th>7</th>\n",
       "      <td>Announce</td>\n",
       "      <td>7.830541</td>\n",
       "    </tr>\n",
       "    <tr>\n",
       "      <th>8</th>\n",
       "      <td>Rating</td>\n",
       "      <td>14.866677</td>\n",
       "    </tr>\n",
       "    <tr>\n",
       "      <th>9</th>\n",
       "      <td>Total Items</td>\n",
       "      <td>1.264626</td>\n",
       "    </tr>\n",
       "    <tr>\n",
       "      <th>10</th>\n",
       "      <td>Image</td>\n",
       "      <td>11.666048</td>\n",
       "    </tr>\n",
       "  </tbody>\n",
       "</table>\n",
       "</div>"
      ],
      "text/plain": [
       "        feature        VIF\n",
       "0       Admirer   1.567498\n",
       "1         Badge   8.352376\n",
       "2      Category   4.583314\n",
       "3      Shipping   5.341978\n",
       "4        Review   7.065757\n",
       "5         Reply   7.607590\n",
       "6          Year   4.404198\n",
       "7      Announce   7.830541\n",
       "8        Rating  14.866677\n",
       "9   Total Items   1.264626\n",
       "10        Image  11.666048"
      ]
     },
     "execution_count": 81,
     "metadata": {},
     "output_type": "execute_result"
    }
   ],
   "source": [
    "from statsmodels.stats.outliers_influence import variance_inflation_factor\n",
    "etsy = Scraped_data[~Scraped_data.isin([np.nan, np.inf, -np.inf]).any(1)]\n",
    "X_variables = etsy.drop(columns = ['Sales','Announcement','Seller','Location','Sales Dummy'])\n",
    "vif_data = pd.DataFrame()\n",
    "vif_data[\"feature\"] = X_variables.columns\n",
    "vif_data[\"VIF\"] = [variance_inflation_factor(X_variables.values, i) for i in range(len(X_variables.columns))]\n",
    "vif_data"
   ]
  },
  {
   "cell_type": "markdown",
   "id": "c48209cb",
   "metadata": {},
   "source": [
    "# Feature Selection"
   ]
  },
  {
   "cell_type": "code",
   "execution_count": 108,
   "id": "aece1b5f",
   "metadata": {},
   "outputs": [
    {
     "name": "stdout",
     "output_type": "stream",
     "text": [
      "[0.42708771 0.12643967 0.03547498 0.10049166 0.22708248 0.04906558\n",
      " 0.01713724 0.01722067]\n"
     ]
    },
    {
     "data": {
      "image/png": "[encoded data removed]",
      "text/plain": [
       "<Figure size 432x288 with 1 Axes>"
      ]
     },
     "metadata": {
      "needs_background": "light"
     },
     "output_type": "display_data"
    }
   ],
   "source": [
    "from sklearn.ensemble import ExtraTreesClassifier\n",
    "import matplotlib.pyplot as plt\n",
    "model = ExtraTreesClassifier()\n",
    "model.fit(x,y)\n",
    "print(model.feature_importances_) #use inbuilt class feature_importances of tree based classifiers\n",
    "#plot graph of feature importances for better visualization\n",
    "feat_importances = pd.Series(model.feature_importances_, index=x.columns)\n",
    "feat_importances.nlargest(10).plot(kind='barh')\n",
    "plt.show()"
   ]
  },
  {
   "cell_type": "code",
   "execution_count": 144,
   "id": "0940fedc",
   "metadata": {},
   "outputs": [
    {
     "name": "stdout",
     "output_type": "stream",
     "text": [
      "Optimization terminated successfully.\n",
      "         Current function value: 0.508592\n",
      "         Iterations 8\n",
      "                           Logit Regression Results                           \n",
      "==============================================================================\n",
      "Dep. Variable:            Sales Dummy   No. Observations:                 5992\n",
      "Model:                          Logit   Df Residuals:                     5986\n",
      "Method:                           MLE   Df Model:                            5\n",
      "Date:                Wed, 15 Mar 2023   Pseudo R-squ.:                  0.2663\n",
      "Time:                        14:42:22   Log-Likelihood:                -3047.5\n",
      "converged:                       True   LL-Null:                       -4153.3\n",
      "Covariance Type:            nonrobust   LLR p-value:                     0.000\n",
      "===============================================================================\n",
      "                  coef    std err          z      P>|z|      [0.025      0.975]\n",
      "-------------------------------------------------------------------------------\n",
      "Admirer         0.0005   1.81e-05     24.921      0.000       0.000       0.000\n",
      "Category       -0.0704      0.007    -10.316      0.000      -0.084      -0.057\n",
      "Review          0.1019      0.078      1.301      0.193      -0.052       0.255\n",
      "Total Items     0.0020      0.000     11.801      0.000       0.002       0.002\n",
      "Year           -0.0006   3.19e-05    -17.753      0.000      -0.001      -0.001\n",
      "Badge           0.2614      0.076      3.451      0.001       0.113       0.410\n",
      "===============================================================================\n"
     ]
    }
   ],
   "source": [
    "x = Scraped_data[['Admirer','Category','Review','Total Items','Year','Badge']]\n",
    "#x = Scraped_data[['Category','Total Items']]\n",
    "\n",
    "y = Scraped_data['Sales Dummy']\n",
    "       \n",
    "logit_model = sm.Logit(y,x)\n",
    "result = logit_model.fit()\n",
    "print(result.summary())"
   ]
  },
  {
   "cell_type": "code",
   "execution_count": 145,
   "id": "edc24cee",
   "metadata": {},
   "outputs": [
    {
     "name": "stdout",
     "output_type": "stream",
     "text": [
      "Accuracy: 78.6488740617181\n"
     ]
    },
    {
     "name": "stderr",
     "output_type": "stream",
     "text": [
      "/Users/macbook/opt/anaconda3/lib/python3.9/site-packages/sklearn/linear_model/_logistic.py:444: ConvergenceWarning: lbfgs failed to converge (status=1):\n",
      "STOP: TOTAL NO. of ITERATIONS REACHED LIMIT.\n",
      "\n",
      "Increase the number of iterations (max_iter) or scale the data as shown in:\n",
      "    https://scikit-learn.org/stable/modules/preprocessing.html\n",
      "Please also refer to the documentation for alternative solver options:\n",
      "    https://scikit-learn.org/stable/modules/linear_model.html#logistic-regression\n",
      "  n_iter_i = _check_optimize_result(\n"
     ]
    }
   ],
   "source": [
    "from sklearn.model_selection import train_test_split\n",
    "from sklearn.linear_model import LogisticRegression\n",
    "from sklearn.metrics import accuracy_score\n",
    "\n",
    "# Split the data into training and testing sets\n",
    "x_train, x_test, y_train, y_test = train_test_split(x, y, test_size=0.2, random_state=42)\n",
    "\n",
    "# Fit the model on the training set\n",
    "logreg = LogisticRegression()\n",
    "logreg.fit(x_train, y_train)\n",
    "\n",
    "# Predict sales on the testing set\n",
    "y_pred = logreg.predict(x_test)\n",
    "\n",
    "# Calculate accuracy\n",
    "accuracy = accuracy_score(y_test, y_pred)\n",
    "print(\"Accuracy:\", accuracy*100)\n"
   ]
  },
  {
   "cell_type": "markdown",
   "id": "73af204d",
   "metadata": {},
   "source": [
    "# What if Analysis"
   ]
  },
  {
   "cell_type": "code",
   "execution_count": 146,
   "id": "8f718936",
   "metadata": {},
   "outputs": [
    {
     "name": "stdout",
     "output_type": "stream",
     "text": [
      "Exp(Coef) would be as follow:\n",
      "                    0\n",
      "Admirer      1.000452\n",
      "Category     0.932003\n",
      "Review       1.107238\n",
      "Total Items  1.002017\n",
      "Year         0.999433\n",
      "Badge        1.298777\n"
     ]
    }
   ],
   "source": [
    "coef = result.params\n",
    "#print(pd.DataFrame(coef))\n",
    "print(\"Exp(Coef) would be as follow:\")\n",
    "print(pd.DataFrame(np.exp(coef)))\n"
   ]
  },
  {
   "cell_type": "markdown",
   "id": "d3f6970a",
   "metadata": {},
   "source": [
    "# Logistic Regression (Badge)"
   ]
  },
  {
   "cell_type": "markdown",
   "id": "8f27baf0",
   "metadata": {},
   "source": [
    "----- SAMAN NOTE: This NaN is very strange! but accuracy is good! I do selection but the accuracy drop So I think we should ignore Badge as the target variable. "
   ]
  },
  {
   "cell_type": "code",
   "execution_count": 112,
   "id": "b6836557",
   "metadata": {},
   "outputs": [
    {
     "name": "stdout",
     "output_type": "stream",
     "text": [
      "Optimization terminated successfully.\n",
      "         Current function value: 0.071134\n",
      "         Iterations 12\n",
      "                           Logit Regression Results                           \n",
      "==============================================================================\n",
      "Dep. Variable:                  Badge   No. Observations:                 5992\n",
      "Model:                          Logit   Df Residuals:                     5981\n",
      "Method:                           MLE   Df Model:                           10\n",
      "Date:                Wed, 15 Mar 2023   Pseudo R-squ.:                  0.8956\n",
      "Time:                        14:25:53   Log-Likelihood:                -426.24\n",
      "converged:                       True   LL-Null:                       -4081.5\n",
      "Covariance Type:            nonrobust   LLR p-value:                     0.000\n",
      "===============================================================================\n",
      "                  coef    std err          z      P>|z|      [0.025      0.975]\n",
      "-------------------------------------------------------------------------------\n",
      "Rating         -4.6711      0.377    -12.394      0.000      -5.410      -3.932\n",
      "Image          -1.4754      0.228     -6.484      0.000      -1.921      -1.029\n",
      "Announce       -1.4798      0.222     -6.667      0.000      -1.915      -1.045\n",
      "Admirer     -1.144e-05   1.87e-05     -0.613      0.540    -4.8e-05    2.52e-05\n",
      "Sales        7.955e-06   2.99e-06      2.661      0.008     2.1e-06    1.38e-05\n",
      "Category        0.0044      0.019      0.225      0.822      -0.034       0.042\n",
      "Shipping        8.7057      0.707     12.310      0.000       7.320      10.092\n",
      "Review         13.8805      1.384     10.027      0.000      11.167      16.594\n",
      "Total Items    -0.0002    6.3e-05     -2.602      0.009      -0.000   -4.04e-05\n",
      "Year        -9.555e-05      0.000     -0.909      0.363      -0.000       0.000\n",
      "Reply          10.8891      0.725     15.011      0.000       9.467      12.311\n",
      "===============================================================================\n",
      "\n",
      "Possibly complete quasi-separation: A fraction 0.33 of observations can be\n",
      "perfectly predicted. This might indicate that there is complete\n",
      "quasi-separation. In this case some parameters will not be identified.\n"
     ]
    }
   ],
   "source": [
    "x = Scraped_data[['Rating','Image','Announce','Admirer','Sales','Category','Shipping','Review','Total Items','Year','Reply']]\n",
    "y = Scraped_data['Badge']\n",
    "\n",
    "logit_model = sm.Logit(y,x)\n",
    "result = logit_model.fit()\n",
    "\n",
    "print(result.summary())\n"
   ]
  },
  {
   "cell_type": "code",
   "execution_count": 113,
   "id": "d0520d1c",
   "metadata": {},
   "outputs": [
    {
     "name": "stdout",
     "output_type": "stream",
     "text": [
      "Accuracy: 90.32527105921602\n"
     ]
    },
    {
     "name": "stderr",
     "output_type": "stream",
     "text": [
      "/Users/macbook/opt/anaconda3/lib/python3.9/site-packages/sklearn/linear_model/_logistic.py:444: ConvergenceWarning: lbfgs failed to converge (status=1):\n",
      "STOP: TOTAL NO. of ITERATIONS REACHED LIMIT.\n",
      "\n",
      "Increase the number of iterations (max_iter) or scale the data as shown in:\n",
      "    https://scikit-learn.org/stable/modules/preprocessing.html\n",
      "Please also refer to the documentation for alternative solver options:\n",
      "    https://scikit-learn.org/stable/modules/linear_model.html#logistic-regression\n",
      "  n_iter_i = _check_optimize_result(\n"
     ]
    }
   ],
   "source": [
    "from sklearn.model_selection import train_test_split\n",
    "from sklearn.linear_model import LogisticRegression\n",
    "from sklearn.metrics import accuracy_score\n",
    "\n",
    "# Split the data into training and testing sets\n",
    "x_train, x_test, y_train, y_test = train_test_split(x, y, test_size=0.2, random_state=42)\n",
    "\n",
    "# Fit the model on the training set\n",
    "logreg = LogisticRegression()\n",
    "logreg.fit(x_train, y_train)\n",
    "\n",
    "# Predict sales on the testing set\n",
    "y_pred = logreg.predict(x_test)\n",
    "\n",
    "# Calculate accuracy\n",
    "accuracy = accuracy_score(y_test, y_pred)\n",
    "print(\"Accuracy:\", accuracy*100)\n"
   ]
  },
  {
   "cell_type": "code",
   "execution_count": 114,
   "id": "91afa4d1",
   "metadata": {},
   "outputs": [
    {
     "name": "stderr",
     "output_type": "stream",
     "text": [
      "/var/folders/s5/4b25bvq14pqbm1qxsg0hhlr40000gn/T/ipykernel_39350/2887191176.py:1: FutureWarning: The default value of numeric_only in DataFrame.corr is deprecated. In a future version, it will default to False. Select only valid columns or specify the value of numeric_only to silence this warning.\n",
      "  correlation_matrix = Scraped_data.corr()\n"
     ]
    },
    {
     "data": {
      "text/plain": [
       "<AxesSubplot:>"
      ]
     },
     "execution_count": 114,
     "metadata": {},
     "output_type": "execute_result"
    },
    {
     "data": {
      "image/png": "[encoded data removed]",
      "text/plain": [
       "<Figure size 1080x720 with 2 Axes>"
      ]
     },
     "metadata": {
      "needs_background": "light"
     },
     "output_type": "display_data"
    }
   ],
   "source": [
    "correlation_matrix = Scraped_data.corr()\n",
    "#print(correlation_matrix)\n",
    "      #['Shipping'].sort_values(ascending=False))\n",
    "\n",
    "import seaborn as sns\n",
    "plt.figure(figsize=(15,10))\n",
    "sns.heatmap(correlation_matrix, annot=True)\n"
   ]
  },
  {
   "cell_type": "markdown",
   "id": "35e3c801",
   "metadata": {},
   "source": [
    "Based on the correlation I see who are the most corrolated one so I drop it"
   ]
  },
  {
   "cell_type": "code",
   "execution_count": 115,
   "id": "c5a6f6b6",
   "metadata": {},
   "outputs": [
    {
     "name": "stdout",
     "output_type": "stream",
     "text": [
      "Optimization terminated successfully.\n",
      "         Current function value: 0.662853\n",
      "         Iterations 5\n",
      "                           Logit Regression Results                           \n",
      "==============================================================================\n",
      "Dep. Variable:                  Badge   No. Observations:                 5992\n",
      "Model:                          Logit   Df Residuals:                     5985\n",
      "Method:                           MLE   Df Model:                            6\n",
      "Date:                Wed, 15 Mar 2023   Pseudo R-squ.:                 0.02687\n",
      "Time:                        14:26:26   Log-Likelihood:                -3971.8\n",
      "converged:                       True   LL-Null:                       -4081.5\n",
      "Covariance Type:            nonrobust   LLR p-value:                 1.422e-44\n",
      "===============================================================================\n",
      "                  coef    std err          z      P>|z|      [0.025      0.975]\n",
      "-------------------------------------------------------------------------------\n",
      "Rating         -0.0401      0.020     -2.036      0.042      -0.079      -0.001\n",
      "Image          -0.6258      0.095     -6.589      0.000      -0.812      -0.440\n",
      "Announce       -0.4328      0.080     -5.414      0.000      -0.589      -0.276\n",
      "Admirer      1.385e-05   3.98e-06      3.478      0.001    6.04e-06    2.16e-05\n",
      "Category        0.0666      0.006     11.801      0.000       0.056       0.078\n",
      "Total Items  8.286e-05   5.89e-05      1.408      0.159   -3.25e-05       0.000\n",
      "Year            0.0002   3.29e-05      4.652      0.000    8.86e-05       0.000\n",
      "===============================================================================\n"
     ]
    }
   ],
   "source": [
    "#droped one: ,'Sales','Review','Shipping','Reply'\n",
    "x = Scraped_data[['Rating','Image','Announce','Admirer','Category','Total Items','Year']]\n",
    "y = Scraped_data['Badge']\n",
    "\n",
    "logit_model = sm.Logit(y,x)\n",
    "result = logit_model.fit()\n",
    "\n",
    "print(result.summary())"
   ]
  },
  {
   "cell_type": "code",
   "execution_count": 116,
   "id": "17f1085f",
   "metadata": {},
   "outputs": [
    {
     "name": "stdout",
     "output_type": "stream",
     "text": [
      "Accuracy: 59.63302752293578\n"
     ]
    }
   ],
   "source": [
    "from sklearn.model_selection import train_test_split\n",
    "from sklearn.linear_model import LogisticRegression\n",
    "from sklearn.metrics import accuracy_score\n",
    "\n",
    "# Split the data into training and testing sets\n",
    "x_train, x_test, y_train, y_test = train_test_split(x, y, test_size=0.2, random_state=42)\n",
    "\n",
    "# Fit the model on the training set\n",
    "logreg = LogisticRegression()\n",
    "logreg.fit(x_train, y_train)\n",
    "\n",
    "# Predict sales on the testing set\n",
    "y_pred = logreg.predict(x_test)\n",
    "\n",
    "# Calculate accuracy\n",
    "accuracy = accuracy_score(y_test, y_pred)\n",
    "print(\"Accuracy:\", accuracy*100)\n"
   ]
  },
  {
   "cell_type": "code",
   "execution_count": 117,
   "id": "7a25882e",
   "metadata": {},
   "outputs": [
    {
     "name": "stdout",
     "output_type": "stream",
     "text": [
      "Exp(Coef) would be as follow:\n",
      "                    0\n",
      "Rating       0.960728\n",
      "Image        0.534819\n",
      "Announce     0.648718\n",
      "Admirer      1.000014\n",
      "Category     1.068920\n",
      "Total Items  1.000083\n",
      "Year         1.000153\n"
     ]
    }
   ],
   "source": [
    "coef = result.params\n",
    "#print(pd.DataFrame(coef))\n",
    "print(\"Exp(Coef) would be as follow:\")\n",
    "print(pd.DataFrame(np.exp(coef)))\n"
   ]
  },
  {
   "cell_type": "markdown",
   "id": "9d54a5c1",
   "metadata": {},
   "source": [
    "So here again it doesn't make sense!"
   ]
  },
  {
   "cell_type": "markdown",
   "id": "58a6b8d6",
   "metadata": {},
   "source": [
    "# Linear Regression (Number of Sales)"
   ]
  },
  {
   "cell_type": "code",
   "execution_count": 118,
   "id": "c74dfa12",
   "metadata": {},
   "outputs": [
    {
     "name": "stdout",
     "output_type": "stream",
     "text": [
      "                            OLS Regression Results                            \n",
      "==============================================================================\n",
      "Dep. Variable:                  Sales   R-squared:                       0.517\n",
      "Model:                            OLS   Adj. R-squared:                  0.516\n",
      "Method:                 Least Squares   F-statistic:                     581.3\n",
      "Date:                Wed, 15 Mar 2023   Prob (F-statistic):               0.00\n",
      "Time:                        14:27:07   Log-Likelihood:                -68380.\n",
      "No. Observations:                5992   AIC:                         1.368e+05\n",
      "Df Residuals:                    5980   BIC:                         1.369e+05\n",
      "Df Model:                          11                                         \n",
      "Covariance Type:            nonrobust                                         \n",
      "===============================================================================\n",
      "                  coef    std err          t      P>|t|      [0.025      0.975]\n",
      "-------------------------------------------------------------------------------\n",
      "const         934.6736   1658.754      0.563      0.573   -2317.084    4186.431\n",
      "Rating       -319.5651    295.995     -1.080      0.280    -899.823     260.693\n",
      "Image          26.1186   1141.926      0.023      0.982   -2212.469    2264.706\n",
      "Announce    -2397.9268    888.783     -2.698      0.007   -4140.261    -655.592\n",
      "Admirer         1.8721      0.042     44.759      0.000       1.790       1.954\n",
      "Badge        1938.0066   1257.160      1.542      0.123    -526.480    4402.493\n",
      "Category      264.0596     56.811      4.648      0.000     152.690     375.430\n",
      "Shipping     -509.5613    862.489     -0.591      0.555   -2200.350    1181.227\n",
      "Review       1271.4098    880.991      1.443      0.149    -455.651    2998.470\n",
      "Total Items    13.2209      0.301     43.880      0.000      12.630      13.812\n",
      "Year           -0.8922      0.345     -2.589      0.010      -1.568      -0.217\n",
      "Reply        -897.0734   1115.813     -0.804      0.421   -3084.470    1290.323\n",
      "==============================================================================\n",
      "Omnibus:                     8968.155   Durbin-Watson:                   1.994\n",
      "Prob(Omnibus):                  0.000   Jarque-Bera (JB):          6254256.011\n",
      "Skew:                           8.977   Prob(JB):                         0.00\n",
      "Kurtosis:                     160.252   Cond. No.                     5.46e+04\n",
      "==============================================================================\n",
      "\n",
      "Notes:\n",
      "[1] Standard Errors assume that the covariance matrix of the errors is correctly specified.\n",
      "[2] The condition number is large, 5.46e+04. This might indicate that there are\n",
      "strong multicollinearity or other numerical problems.\n"
     ]
    }
   ],
   "source": [
    "from sklearn.linear_model import LinearRegression\n",
    "\n",
    "x = Scraped_data[['Rating','Image','Announce','Admirer','Badge','Category','Shipping','Review','Total Items','Year','Reply']]\n",
    "y = Scraped_data['Sales']\n",
    "\n",
    "# add a constant term to the input data\n",
    "x = sm.add_constant(x)\n",
    "\n",
    "# fit the OLS model\n",
    "model = sm.OLS(y, x).fit()\n",
    "\n",
    "# print the summary table\n",
    "print(model.summary())\n"
   ]
  },
  {
   "cell_type": "markdown",
   "id": "ecdff056",
   "metadata": {},
   "source": [
    "----- SAMAN NOTE : Now the R sqaure is not good we can work on it by doing feature engineering like log and etc"
   ]
  },
  {
   "cell_type": "markdown",
   "id": "850d3814",
   "metadata": {},
   "source": [
    "I tried scaling here but again doesn't change the R square"
   ]
  },
  {
   "cell_type": "code",
   "execution_count": 22,
   "id": "880ff0e3",
   "metadata": {},
   "outputs": [
    {
     "name": "stdout",
     "output_type": "stream",
     "text": [
      "                            OLS Regression Results                            \n",
      "==============================================================================\n",
      "Dep. Variable:                      0   R-squared:                       0.516\n",
      "Model:                            OLS   Adj. R-squared:                  0.515\n",
      "Method:                 Least Squares   F-statistic:                     638.0\n",
      "Date:                Wed, 15 Mar 2023   Prob (F-statistic):               0.00\n",
      "Time:                        13:20:42   Log-Likelihood:                 14097.\n",
      "No. Observations:                5992   AIC:                        -2.817e+04\n",
      "Df Residuals:                    5981   BIC:                        -2.810e+04\n",
      "Df Model:                          10                                         \n",
      "Covariance Type:            nonrobust                                         \n",
      "===============================================================================\n",
      "                  coef    std err          t      P>|t|      [0.025      0.975]\n",
      "-------------------------------------------------------------------------------\n",
      "const          -0.0004      0.002     -0.269      0.788      -0.004       0.003\n",
      "Rating         -0.0018      0.002     -1.180      0.238      -0.005       0.001\n",
      "Image          -0.0001      0.001     -0.113      0.910      -0.002       0.002\n",
      "Announce     9.058e-17   1.27e-18     71.370      0.000    8.81e-17    9.31e-17\n",
      "Admirer         0.2805      0.006     44.655      0.000       0.268       0.293\n",
      "Badge           0.0021      0.001      1.622      0.105      -0.000       0.005\n",
      "Category        0.0053      0.001      4.255      0.000       0.003       0.008\n",
      "Shipping       -0.0005      0.001     -0.594      0.553      -0.002       0.001\n",
      "Review          0.0012      0.001      1.289      0.197      -0.001       0.003\n",
      "Total Items     0.9352      0.021     43.955      0.000       0.894       0.977\n",
      "Year           -0.0020      0.001     -2.811      0.005      -0.003      -0.001\n",
      "Reply          -0.0010      0.001     -0.864      0.388      -0.003       0.001\n",
      "==============================================================================\n",
      "Omnibus:                     8968.938   Durbin-Watson:                   1.993\n",
      "Prob(Omnibus):                  0.000   Jarque-Bera (JB):          6242677.102\n",
      "Skew:                           8.980   Prob(JB):                         0.00\n",
      "Kurtosis:                     160.103   Cond. No.                     2.36e+17\n",
      "==============================================================================\n",
      "\n",
      "Notes:\n",
      "[1] Standard Errors assume that the covariance matrix of the errors is correctly specified.\n",
      "[2] The smallest eigenvalue is 5.47e-31. This might indicate that there are\n",
      "strong multicollinearity problems or that the design matrix is singular.\n"
     ]
    }
   ],
   "source": [
    "from sklearn.preprocessing import MinMaxScaler\n",
    "from sklearn.linear_model import LinearRegression\n",
    "\n",
    "# create MinMaxScaler object\n",
    "scaler = MinMaxScaler()\n",
    "\n",
    "# scale the features between 0 and 1\n",
    "x_scaled = scaler.fit_transform(Scraped_data[['Rating','Image','Announce','Admirer','Badge','Category','Shipping','Review','Total Items','Year','Reply']])\n",
    "\n",
    "# create a DataFrame of the scaled features\n",
    "x = pd.DataFrame(x_scaled, columns=['Rating','Image','Announce','Admirer','Badge','Category','Shipping','Review','Total Items','Year','Reply'])\n",
    "y = pd.DataFrame(scaler.fit_transform(Scraped_data[['Sales']]))\n",
    "\n",
    "# add a constant term to the input data\n",
    "x = sm.add_constant(x)\n",
    "\n",
    "# fit the OLS model\n",
    "model = sm.OLS(y, x).fit()\n",
    "\n",
    "# print the summary table\n",
    "print(model.summary())\n"
   ]
  },
  {
   "cell_type": "code",
   "execution_count": 119,
   "id": "cf1986ce",
   "metadata": {},
   "outputs": [
    {
     "name": "stdout",
     "output_type": "stream",
     "text": [
      "[False False False  True False  True False False  True False False  True]\n"
     ]
    },
    {
     "data": {
      "image/png": "[encoded data removed]",
      "text/plain": [
       "<Figure size 432x288 with 1 Axes>"
      ]
     },
     "metadata": {
      "needs_background": "light"
     },
     "output_type": "display_data"
    }
   ],
   "source": [
    "from sklearn.linear_model import LinearRegression\n",
    "from sklearn.feature_selection import SelectFromModel\n",
    "import matplotlib.pyplot as plt\n",
    "\n",
    "# Assume x and y are the input and output variables respectively\n",
    "model = LinearRegression()\n",
    "selector = SelectFromModel(model)\n",
    "selector.fit(x, y)\n",
    "\n",
    "# Print the selected features\n",
    "print(selector.get_support())\n",
    "\n",
    "# Plot graph of feature importances for better visualization\n",
    "feat_importances = pd.Series(selector.estimator_.coef_, index=x.columns)\n",
    "feat_importances.nlargest(10).plot(kind='barh')\n",
    "plt.show()"
   ]
  },
  {
   "cell_type": "code",
   "execution_count": 122,
   "id": "cfe320f2",
   "metadata": {},
   "outputs": [
    {
     "name": "stderr",
     "output_type": "stream",
     "text": [
      "/var/folders/s5/4b25bvq14pqbm1qxsg0hhlr40000gn/T/ipykernel_39350/3408025286.py:1: FutureWarning: The default value of numeric_only in DataFrame.corr is deprecated. In a future version, it will default to False. Select only valid columns or specify the value of numeric_only to silence this warning.\n",
      "  correlation_matrix = Scraped_data.corr()\n"
     ]
    },
    {
     "data": {
      "text/plain": [
       "<AxesSubplot:>"
      ]
     },
     "execution_count": 122,
     "metadata": {},
     "output_type": "execute_result"
    },
    {
     "data": {
      "image/png": "[encoded data removed]",
      "text/plain": [
       "<Figure size 1080x720 with 2 Axes>"
      ]
     },
     "metadata": {
      "needs_background": "light"
     },
     "output_type": "display_data"
    }
   ],
   "source": [
    "correlation_matrix = Scraped_data.corr()\n",
    "#print(correlation_matrix)\n",
    "      #['Shipping'].sort_values(ascending=False))\n",
    "\n",
    "import seaborn as sns\n",
    "plt.figure(figsize=(15,10))\n",
    "sns.heatmap(correlation_matrix, annot=True)"
   ]
  },
  {
   "cell_type": "code",
   "execution_count": 148,
   "id": "9c4f0732",
   "metadata": {},
   "outputs": [
    {
     "name": "stdout",
     "output_type": "stream",
     "text": [
      "                            OLS Regression Results                            \n",
      "==============================================================================\n",
      "Dep. Variable:                  Sales   R-squared:                       0.515\n",
      "Model:                            OLS   Adj. R-squared:                  0.514\n",
      "Method:                 Least Squares   F-statistic:                     1269.\n",
      "Date:                Wed, 15 Mar 2023   Prob (F-statistic):               0.00\n",
      "Time:                        15:04:34   Log-Likelihood:                -68393.\n",
      "No. Observations:                5992   AIC:                         1.368e+05\n",
      "Df Residuals:                    5986   BIC:                         1.368e+05\n",
      "Df Model:                           5                                         \n",
      "Covariance Type:            nonrobust                                         \n",
      "===============================================================================\n",
      "                  coef    std err          t      P>|t|      [0.025      0.975]\n",
      "-------------------------------------------------------------------------------\n",
      "const        -838.0106    683.980     -1.225      0.221   -2178.857     502.836\n",
      "Admirer         1.8745      0.042     44.930      0.000       1.793       1.956\n",
      "Review       1176.5798    762.288      1.543      0.123    -317.779    2670.938\n",
      "Total Items    13.4963      0.295     45.679      0.000      12.917      14.076\n",
      "Year           -0.8163      0.329     -2.482      0.013      -1.461      -0.172\n",
      "Badge        1255.5791    673.798      1.863      0.062     -65.307    2576.465\n",
      "==============================================================================\n",
      "Omnibus:                     8957.277   Durbin-Watson:                   1.993\n",
      "Prob(Omnibus):                  0.000   Jarque-Bera (JB):          6245076.719\n",
      "Skew:                           8.954   Prob(JB):                         0.00\n",
      "Kurtosis:                     160.140   Cond. No.                     2.87e+04\n",
      "==============================================================================\n",
      "\n",
      "Notes:\n",
      "[1] Standard Errors assume that the covariance matrix of the errors is correctly specified.\n",
      "[2] The condition number is large, 2.87e+04. This might indicate that there are\n",
      "strong multicollinearity or other numerical problems.\n"
     ]
    }
   ],
   "source": [
    "from sklearn.linear_model import LinearRegression\n",
    "\n",
    "x = Scraped_data[['Admirer','Review','Total Items','Year','Badge']]\n",
    "#'Category',\n",
    "y = Scraped_data['Sales']\n",
    "\n",
    "# add a constant term to the input data\n",
    "x = sm.add_constant(x)\n",
    "\n",
    "# fit the OLS model\n",
    "model = sm.OLS(y, x).fit()\n",
    "\n",
    "# print the summary table\n",
    "print(model.summary())"
   ]
  },
  {
   "cell_type": "code",
   "execution_count": null,
   "id": "042a4288",
   "metadata": {},
   "outputs": [],
   "source": []
  }
 ],
 "metadata": {
  "kernelspec": {
   "display_name": "Python 3 (ipykernel)",
   "language": "python",
   "name": "python3"
  },
  "language_info": {
   "codemirror_mode": {
    "name": "ipython",
    "version": 3
   },
   "file_extension": ".py",
   "mimetype": "text/x-python",
   "name": "python",
   "nbconvert_exporter": "python",
   "pygments_lexer": "ipython3",
   "version": "3.9.12"
  }
 },
 "nbformat": 4,
 "nbformat_minor": 5
}
